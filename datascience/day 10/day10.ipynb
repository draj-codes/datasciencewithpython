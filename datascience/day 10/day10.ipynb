{
 "cells": [
  {
   "cell_type": "code",
   "execution_count": null,
   "id": "a741326e",
   "metadata": {},
   "outputs": [],
   "source": [
    "import numpy as np\n",
    "import matplotlib.pyplot as plt\n",
    "url=r\"C:\\Users\\divya\\OneDrive\\Desktop\\datascience1\\unnamed (1).jpg\"\n",
    "arr=plt.imread(url)\n",
    "plt.imshow(arr)"
   ]
  },
  {
   "cell_type": "code",
   "execution_count": null,
   "id": "9841090d",
   "metadata": {},
   "outputs": [],
   "source": [
    "pookie=arr.copy()"
   ]
  },
  {
   "cell_type": "code",
   "execution_count": null,
   "id": "c7a7a6fb",
   "metadata": {},
   "outputs": [],
   "source": [
    "plt.imshow(pookie)\n",
    "pookie.shape"
   ]
  },
  {
   "cell_type": "code",
   "execution_count": null,
   "id": "250cd30f",
   "metadata": {},
   "outputs": [],
   "source": [
    "try:\n",
    "    import numpy as np\n",
    "    import matplotlib.pyplot as plt\n",
    "    while True:\n",
    "        import time\n",
    "        a=np.random.randint(0,255,(5,5,3))\n",
    "        plt.imshow(a)\n",
    "        plt.show()\n",
    "        time.sleep(0.5)\n",
    "        display(clear=True)\n",
    "except:\n",
    "    print(\"Stopped\")"
   ]
  },
  {
   "cell_type": "code",
   "execution_count": null,
   "id": "99cd1791",
   "metadata": {},
   "outputs": [],
   "source": [
    "import numpy as np\n",
    "a = np.random.randint(0,255,(4,4,3))\n",
    "a"
   ]
  },
  {
   "cell_type": "code",
   "execution_count": null,
   "id": "f6a4c808",
   "metadata": {},
   "outputs": [],
   "source": [
    "splt=np.split(a,2)\n",
    "splt"
   ]
  },
  {
   "cell_type": "code",
   "execution_count": null,
   "id": "2b92459f",
   "metadata": {},
   "outputs": [],
   "source": [
    "plt.imshow(a)\n",
    "plt.imshow(splt[1])\n",
    "plt.imshow(a)\n"
   ]
  },
  {
   "cell_type": "code",
   "execution_count": null,
   "id": "e1fd48b7",
   "metadata": {},
   "outputs": [],
   "source": [
    "arr=np.split(a,3,axis=2)\n",
    "plt.imshow(arr[0])\n"
   ]
  },
  {
   "cell_type": "code",
   "execution_count": null,
   "id": "a2a9347f",
   "metadata": {},
   "outputs": [],
   "source": [
    "import numpy as np\n",
    "import matplotlib.pyplot as plt\n",
    "url=r\"C:\\Users\\divya\\OneDrive\\Desktop\\datascience1\\unnamed (1).jpg\"\n",
    "arr=plt.imread(url)\n",
    "pookie=arr.copy()\n",
    "print(plt.imshow(np.split(arr,2,axis=0)[1]))\n",
    "# pookie.shape"
   ]
  },
  {
   "cell_type": "code",
   "execution_count": null,
   "id": "b7bb524c",
   "metadata": {},
   "outputs": [],
   "source": [
    "pookie.shape\n",
    "206//3\n",
    "plt.imshow(arr[:,68*2:,:])\n",
    "np.split(arr,4,axis=1)"
   ]
  },
  {
   "cell_type": "code",
   "execution_count": null,
   "id": "72a7a516",
   "metadata": {},
   "outputs": [],
   "source": [
    "a=np.random.randint(1,500,(4,4))\n",
    "a"
   ]
  },
  {
   "cell_type": "code",
   "execution_count": null,
   "id": "3186fb72",
   "metadata": {},
   "outputs": [],
   "source": [
    "np.where(a>200, a, \"High\")\n",
    "np.where(a>200,\"High\",a)\n"
   ]
  },
  {
   "cell_type": "code",
   "execution_count": null,
   "id": "6684fdce",
   "metadata": {},
   "outputs": [],
   "source": [
    "a=np.random.randint(1,500,(4,4))\n",
    "print(a)\n",
    "np.clip(a,100,250) #(array,lower,upper)"
   ]
  },
  {
   "cell_type": "code",
   "execution_count": null,
   "id": "735c8f97",
   "metadata": {},
   "outputs": [],
   "source": [
    "#broadcasting\n",
    "a=np.random.randint(1,100,6)\n",
    "b=np.random.randint(1,100,(2,6))\n",
    "print(a)\n",
    "print(\"\\n\")\n",
    "print(b)"
   ]
  },
  {
   "cell_type": "code",
   "execution_count": null,
   "id": "d4c25335",
   "metadata": {},
   "outputs": [],
   "source": [
    "a+b"
   ]
  },
  {
   "cell_type": "markdown",
   "id": "9c659f34",
   "metadata": {},
   "source": [
    "#Pandas "
   ]
  },
  {
   "cell_type": "code",
   "execution_count": null,
   "id": "4d52ad9d",
   "metadata": {},
   "outputs": [],
   "source": [
    "#pandas stand for pannel data frame\n",
    "import pandas as pd\n",
    "pd.__version__"
   ]
  },
  {
   "cell_type": "code",
   "execution_count": null,
   "id": "5e93b010",
   "metadata": {},
   "outputs": [],
   "source": [
    "import random\n",
    "import numpy as np\n",
    "product=[\"Chair\",\"table\",\"Laptop\",\"Phone\"]\n",
    "region=[\"East\",\"West\",\"North\",\"South\"]\n",
    "all_date=pd.date_range('01-01-2025','23-07-2025')\n",
    "data={'Order_id':range(1,1001),\n",
    "      \"Date\":random.choices(all_date, k=1000),\n",
    "    'Region Name':random.choices(region,k=1000),\n",
    "      'Product Name':random.choices(product,k=1000),\n",
    "      'Sales':np.random.randint(100,1000,1000),\n",
    "      'Qty':np.random.randint(1,10,1000),\n",
    "      'profit':np.random.randint(-10000,10000,1000)}\n",
    "df=pd.DataFrame(data)\n",
    "display(df)"
   ]
  },
  {
   "cell_type": "code",
   "execution_count": null,
   "id": "bc06c42f",
   "metadata": {},
   "outputs": [],
   "source": [
    "df.head()#Ir show first 5 data from the starting"
   ]
  },
  {
   "cell_type": "code",
   "execution_count": null,
   "id": "3a0ab01a",
   "metadata": {},
   "outputs": [],
   "source": [
    "df.tail()#Show the lower data. By default 5 value"
   ]
  },
  {
   "cell_type": "code",
   "execution_count": null,
   "id": "901da3a1",
   "metadata": {},
   "outputs": [],
   "source": [
    "df.sample()#randomly choose any value from the data"
   ]
  },
  {
   "cell_type": "code",
   "execution_count": null,
   "id": "e05cc1a5",
   "metadata": {},
   "outputs": [],
   "source": [
    "#information about dataset \n",
    "df.info()"
   ]
  },
  {
   "cell_type": "markdown",
   "id": "b1944e69",
   "metadata": {},
   "source": [
    "#IN PANDAS THERE ARE TWO TYPE OF DATATYPE (DATAFRAME AND SERIES)\n"
   ]
  },
  {
   "cell_type": "code",
   "execution_count": null,
   "id": "72652c18",
   "metadata": {},
   "outputs": [],
   "source": [
    "#Column name \n",
    "df.columns"
   ]
  },
  {
   "cell_type": "code",
   "execution_count": null,
   "id": "459fc6ac",
   "metadata": {},
   "outputs": [],
   "source": [
    "# table index \n",
    "df.index # show the range of the data \n"
   ]
  },
  {
   "cell_type": "code",
   "execution_count": null,
   "id": "bb882885",
   "metadata": {},
   "outputs": [],
   "source": [
    "#isan = check for nan values (not available)\n",
    "df.isna()"
   ]
  },
  {
   "cell_type": "code",
   "execution_count": null,
   "id": "f375b302",
   "metadata": {},
   "outputs": [],
   "source": [
    "# null count \n",
    "df.isnull().value_counts()"
   ]
  }
 ],
 "metadata": {
  "kernelspec": {
   "display_name": "Python 3",
   "language": "python",
   "name": "python3"
  },
  "language_info": {
   "codemirror_mode": {
    "name": "ipython",
    "version": 3
   },
   "file_extension": ".py",
   "mimetype": "text/x-python",
   "name": "python",
   "nbconvert_exporter": "python",
   "pygments_lexer": "ipython3",
   "version": "3.13.5"
  }
 },
 "nbformat": 4,
 "nbformat_minor": 5
}
