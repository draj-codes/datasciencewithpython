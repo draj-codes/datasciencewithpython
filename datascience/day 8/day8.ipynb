{
 "cells": [
  {
   "cell_type": "markdown",
   "id": "2ef12688",
   "metadata": {},
   "source": [
    "Web scrapping project"
   ]
  },
  {
   "cell_type": "code",
   "execution_count": null,
   "id": "7c0d34d4",
   "metadata": {},
   "outputs": [],
   "source": [
    "import requests as rq\n",
    "url='''https://en.wikipedia.org/wiki/List_of_Indians_by_net_worth'''\n",
    "response= rq.get(url) #here 200 mean the website data should be scrape\n",
    "response"
   ]
  },
  {
   "cell_type": "code",
   "execution_count": null,
   "id": "a10e1d16",
   "metadata": {},
   "outputs": [],
   "source": [
    "data = response.content\n",
    "print(data)"
   ]
  },
  {
   "cell_type": "code",
   "execution_count": null,
   "id": "edcc7846",
   "metadata": {},
   "outputs": [],
   "source": [
    "from bs4 import BeautifulSoup\n",
    "soup=BeautifulSoup(data)\n",
    "print(\"done\")\n",
    "soup.find_all(\"wikitable sortable jquery-tablesorter\")"
   ]
  },
  {
   "cell_type": "code",
   "execution_count": null,
   "id": "9a29b350",
   "metadata": {},
   "outputs": [],
   "source": [
    "for i in soup.find_all(\"tr\"):\n",
    "    print(i.text)"
   ]
  },
  {
   "cell_type": "code",
   "execution_count": null,
   "id": "f6ac8b14",
   "metadata": {},
   "outputs": [],
   "source": [
    "all_data=[]\n",
    "for index_no, value in enumerate(soup.find_all(\"tr\")): #enumerate is used for give output in index and value\n",
    "    if 0<=index_no<=24:\n",
    "        # print(index_no,value.text) \n",
    "        # all_data=[]\n",
    "        temp_data=value.text.splitlines() #splitline is used for string \n",
    "        while \"\" in temp_data:\n",
    "            temp_data.remove(\"\")\n",
    "        # print(temp_data)\n",
    "        all_data.append(temp_data)"
   ]
  },
  {
   "cell_type": "code",
   "execution_count": null,
   "id": "4b6f67a0",
   "metadata": {},
   "outputs": [],
   "source": [
    "# for index_no, value in enumerate(soup.find_all(\"tr\")): #enumerate is used for give output in index and value\n",
    "#     if 0<=index_no<=24:\n",
    "#         # print(index_no,value.text) \n",
    "#         a=\"\"\n",
    "#         temp_data=value.text.splitlines() #splitline is used for string \n",
    "#         for i in temp_data: #if we make it from 'for loop' it consume more memory so we not use \n",
    "#             temp_data.remove(a)\n",
    "#         print(temp_data)"
   ]
  },
  {
   "cell_type": "code",
   "execution_count": null,
   "id": "d01baf22",
   "metadata": {},
   "outputs": [],
   "source": [
    "colum=all_data[0] #here all headers store \n",
    "final_data=all_data[1:] #here values stores "
   ]
  },
  {
   "cell_type": "code",
   "execution_count": null,
   "id": "65ddef0f",
   "metadata": {},
   "outputs": [],
   "source": [
    "import pandas as pd\n",
    "col=[\"Rank\",'Name','Net worth(USD)',\"Company\",\"Source of wealth\",'None','None']\n",
    "rich_indians=pd.DataFrame(final_data,columns=col)\n",
    "final_list=rich_indians.drop('None',axis=1)#this is pandas part\n",
    "final_list.to_excel('richlist.xlsx')"
   ]
  },
  {
   "cell_type": "code",
   "execution_count": null,
   "id": "de549fbd",
   "metadata": {},
   "outputs": [],
   "source": [
    "import pymysql as py\n",
    "print(\"done\")"
   ]
  },
  {
   "cell_type": "code",
   "execution_count": null,
   "id": "dadf51c3",
   "metadata": {},
   "outputs": [],
   "source": [
    "import pymysql as py\n",
    "conn = py.connect(user = 'root',\n",
    "           password = '123456789',\n",
    "           host = 'localhost',\n",
    "           autocommit = True) #use to autocommit the python coammand into sql database\n",
    "\n",
    "print (\"Mubarak ho connection ho gaya.......\")\n",
    "cur=conn.cursor()"
   ]
  },
  {
   "cell_type": "code",
   "execution_count": null,
   "id": "456e930b",
   "metadata": {},
   "outputs": [],
   "source": [
    "querry=\"create database wiki\"\n",
    "cur.execute(querry)\n",
    "print(\"Data Base Created name Wiki\")"
   ]
  },
  {
   "cell_type": "code",
   "execution_count": null,
   "id": "78bf0051",
   "metadata": {},
   "outputs": [],
   "source": [
    "table_columns=[\"rich_\"+ i.replace(' ','_').replace('(USD)','') for i in final_list.columns] #list comprehension \n",
    "table_columns"
   ]
  },
  {
   "cell_type": "code",
   "execution_count": null,
   "id": "0e0968af",
   "metadata": {},
   "outputs": [],
   "source": [
    "tab=' varchar(255), '.join(table_columns) +' varchar(255)'"
   ]
  },
  {
   "cell_type": "code",
   "execution_count": null,
   "id": "5bcb5f77",
   "metadata": {},
   "outputs": [],
   "source": [
    "q='''use wiki'''\n",
    "cur.execute(q)"
   ]
  },
  {
   "cell_type": "code",
   "execution_count": null,
   "id": "4b605af8",
   "metadata": {},
   "outputs": [],
   "source": [
    "q1='''create table rich_list('''+ tab + ');'\n",
    "cur.execute(q1)"
   ]
  },
  {
   "cell_type": "code",
   "execution_count": null,
   "id": "d50ff663",
   "metadata": {},
   "outputs": [],
   "source": [
    "# q2=\"Select * from rich_list\"\n",
    "# cur.execute(q2)"
   ]
  },
  {
   "cell_type": "code",
   "execution_count": null,
   "id": "79907e66",
   "metadata": {},
   "outputs": [],
   "source": [
    "for i in final_list.itertuples(): #\n",
    "    values=tuple(i)[1:]\n",
    "    q2=f'''Insert into rich_list values{values}'''\n",
    "    cur.execute(q2)\n",
    "print('Data Enter successfully')"
   ]
  },
  {
   "cell_type": "code",
   "execution_count": 34,
   "id": "2f4b6315",
   "metadata": {},
   "outputs": [
    {
     "data": {
      "text/plain": [
       "24"
      ]
     },
     "execution_count": 34,
     "metadata": {},
     "output_type": "execute_result"
    }
   ],
   "source": [
    "q3='''select * from rich_list'''\n",
    "cur.execute(q3)"
   ]
  }
 ],
 "metadata": {
  "kernelspec": {
   "display_name": "Python 3",
   "language": "python",
   "name": "python3"
  },
  "language_info": {
   "codemirror_mode": {
    "name": "ipython",
    "version": 3
   },
   "file_extension": ".py",
   "mimetype": "text/x-python",
   "name": "python",
   "nbconvert_exporter": "python",
   "pygments_lexer": "ipython3",
   "version": "3.13.5"
  }
 },
 "nbformat": 4,
 "nbformat_minor": 5
}
