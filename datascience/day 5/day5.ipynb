{
 "cells": [
  {
   "cell_type": "code",
   "execution_count": 2,
   "id": "df786f56",
   "metadata": {},
   "outputs": [
    {
     "name": "stdout",
     "output_type": "stream",
     "text": [
      "done\n"
     ]
    }
   ],
   "source": [
    "import pymysql as py\n",
    "print (\"done\")"
   ]
  },
  {
   "cell_type": "code",
   "execution_count": 2,
   "id": "e1723533",
   "metadata": {},
   "outputs": [
    {
     "name": "stdout",
     "output_type": "stream",
     "text": [
      "Mubarak ho connection ho gaya.......\n"
     ]
    }
   ],
   "source": [
    "import pymysql as py\n",
    "conn = py.connect(user = 'root',\n",
    "           password = '123456789',\n",
    "           host = 'localhost',\n",
    "           autocommit = True) #use to autocommit the python coammand into sql database\n",
    "\n",
    "print (\"Mubarak ho connection ho gaya.......\")"
   ]
  },
  {
   "cell_type": "markdown",
   "id": "9ee049d1",
   "metadata": {},
   "source": [
    "now we make cursor. Help for executing the code in sql "
   ]
  },
  {
   "cell_type": "code",
   "execution_count": 7,
   "id": "4c1684eb",
   "metadata": {},
   "outputs": [
    {
     "name": "stdout",
     "output_type": "stream",
     "text": [
      "Cursor is created\n"
     ]
    }
   ],
   "source": [
    "cur= conn.cursor()\n",
    "print (\"Cursor is created\")\n"
   ]
  },
  {
   "cell_type": "code",
   "execution_count": 3,
   "id": "d6cb1923",
   "metadata": {},
   "outputs": [
    {
     "name": "stdout",
     "output_type": "stream",
     "text": [
      "Data Base Created\n"
     ]
    }
   ],
   "source": [
    "q1= ''' create database day5;'''\n",
    "cur.execute(q1)\n",
    "print(\"Data Base Created\")"
   ]
  },
  {
   "cell_type": "code",
   "execution_count": 8,
   "id": "9beb212e",
   "metadata": {},
   "outputs": [
    {
     "name": "stdout",
     "output_type": "stream",
     "text": [
      "Done\n"
     ]
    }
   ],
   "source": [
    "q='''use day5;'''\n",
    "cur.execute(q)\n",
    "print(\"Done\")\n"
   ]
  },
  {
   "cell_type": "code",
   "execution_count": 5,
   "id": "d06efa26",
   "metadata": {},
   "outputs": [
    {
     "name": "stdout",
     "output_type": "stream",
     "text": [
      "done\n"
     ]
    }
   ],
   "source": [
    "q2= '''create table s_details(\n",
    "SID int not null,\n",
    "S_Name varchar(50),\n",
    "S_Course varchar(50),\n",
    "Address varchar(50));'''\n",
    "cur.execute(q2)\n",
    "print (\"done\")"
   ]
  },
  {
   "cell_type": "code",
   "execution_count": 7,
   "id": "7bdc003a",
   "metadata": {},
   "outputs": [
    {
     "name": "stdout",
     "output_type": "stream",
     "text": [
      "Data Enter successfully\n"
     ]
    }
   ],
   "source": [
    "# inserting data \n",
    "q= '''insert into s_details values(\n",
    "057,\"Divyanshu\",\"BCA\",\"Delhi\");'''\n",
    "cur.execute(q)\n",
    "print (\"Data Enter successfully\")\n"
   ]
  },
  {
   "cell_type": "code",
   "execution_count": 11,
   "id": "06870570",
   "metadata": {},
   "outputs": [
    {
     "name": "stdout",
     "output_type": "stream",
     "text": [
      "data Enter\n"
     ]
    }
   ],
   "source": [
    "for i in range (5):\n",
    "    sid= int(input(\"Enter Student id : \"))\n",
    "    name=input('Enter student name : ')\n",
    "    course= input('Enter course : ')\n",
    "    address= input('Enter address : ')\n",
    "    q=f'''insert into s_details values ({sid},'{name}','{course}','{address}');'''\n",
    "    cur.execute(q)\n",
    "print (\"data Enter\")"
   ]
  },
  {
   "cell_type": "code",
   "execution_count": 9,
   "id": "6e7780e2",
   "metadata": {},
   "outputs": [
    {
     "data": {
      "text/html": [
       "<div>\n",
       "<style scoped>\n",
       "    .dataframe tbody tr th:only-of-type {\n",
       "        vertical-align: middle;\n",
       "    }\n",
       "\n",
       "    .dataframe tbody tr th {\n",
       "        vertical-align: top;\n",
       "    }\n",
       "\n",
       "    .dataframe thead th {\n",
       "        text-align: right;\n",
       "    }\n",
       "</style>\n",
       "<table border=\"1\" class=\"dataframe\">\n",
       "  <thead>\n",
       "    <tr style=\"text-align: right;\">\n",
       "      <th></th>\n",
       "      <th>SID</th>\n",
       "      <th>S_Name</th>\n",
       "      <th>S_Course</th>\n",
       "      <th>Address</th>\n",
       "    </tr>\n",
       "  </thead>\n",
       "  <tbody>\n",
       "    <tr>\n",
       "      <th>0</th>\n",
       "      <td>57</td>\n",
       "      <td>Divyanshu</td>\n",
       "      <td>BCA</td>\n",
       "      <td>Delhi</td>\n",
       "    </tr>\n",
       "    <tr>\n",
       "      <th>1</th>\n",
       "      <td>100</td>\n",
       "      <td>farhan</td>\n",
       "      <td>BCA</td>\n",
       "      <td>Delhi</td>\n",
       "    </tr>\n",
       "    <tr>\n",
       "      <th>2</th>\n",
       "      <td>1</td>\n",
       "      <td>dev</td>\n",
       "      <td>BCOM</td>\n",
       "      <td>janakpuri</td>\n",
       "    </tr>\n",
       "    <tr>\n",
       "      <th>3</th>\n",
       "      <td>2</td>\n",
       "      <td>monkey</td>\n",
       "      <td>BCA</td>\n",
       "      <td>IITM Janakpuri</td>\n",
       "    </tr>\n",
       "    <tr>\n",
       "      <th>4</th>\n",
       "      <td>3</td>\n",
       "      <td>abhi</td>\n",
       "      <td>BBA</td>\n",
       "      <td>delhi</td>\n",
       "    </tr>\n",
       "    <tr>\n",
       "      <th>5</th>\n",
       "      <td>4</td>\n",
       "      <td>divu</td>\n",
       "      <td>BCOM</td>\n",
       "      <td>dwarka</td>\n",
       "    </tr>\n",
       "    <tr>\n",
       "      <th>6</th>\n",
       "      <td>5</td>\n",
       "      <td>anjali</td>\n",
       "      <td>BBA</td>\n",
       "      <td>janakpuri</td>\n",
       "    </tr>\n",
       "  </tbody>\n",
       "</table>\n",
       "</div>"
      ],
      "text/plain": [
       "   SID     S_Name S_Course         Address\n",
       "0   57  Divyanshu      BCA           Delhi\n",
       "1  100     farhan      BCA           Delhi\n",
       "2    1        dev     BCOM       janakpuri\n",
       "3    2     monkey      BCA  IITM Janakpuri\n",
       "4    3       abhi      BBA           delhi\n",
       "5    4       divu     BCOM          dwarka\n",
       "6    5     anjali      BBA       janakpuri"
      ]
     },
     "execution_count": 9,
     "metadata": {},
     "output_type": "execute_result"
    }
   ],
   "source": [
    "q3=\"select * from s_details;\"\n",
    "cur.execute(q3)\n",
    "a=[]\n",
    "for i in cur.description:\n",
    "    a.append(i[0])\n",
    "    # print(i)\n",
    "r=cur.fetchall()\n",
    "import pandas as pd \n",
    "pd.DataFrame(r,columns=a)"
   ]
  },
  {
   "cell_type": "code",
   "execution_count": 4,
   "id": "c4912802",
   "metadata": {},
   "outputs": [],
   "source": [
    "def show_rec(db,table):\n",
    "    q3=f'''select * from {db}.{table};'''\n",
    "    cur.execute(q3)\n",
    "    a=[]\n",
    "    for i in cur.description:\n",
    "        a.append(i[0])\n",
    "        # print(i)\n",
    "    r=cur.fetchall()\n",
    "    import pandas as pd \n",
    "    rec=pd.DataFrame(r,columns=a)\n",
    "    return rec\n",
    "\n"
   ]
  },
  {
   "cell_type": "code",
   "execution_count": 10,
   "id": "4ea7039e",
   "metadata": {},
   "outputs": [
    {
     "data": {
      "text/html": [
       "<div>\n",
       "<style scoped>\n",
       "    .dataframe tbody tr th:only-of-type {\n",
       "        vertical-align: middle;\n",
       "    }\n",
       "\n",
       "    .dataframe tbody tr th {\n",
       "        vertical-align: top;\n",
       "    }\n",
       "\n",
       "    .dataframe thead th {\n",
       "        text-align: right;\n",
       "    }\n",
       "</style>\n",
       "<table border=\"1\" class=\"dataframe\">\n",
       "  <thead>\n",
       "    <tr style=\"text-align: right;\">\n",
       "      <th></th>\n",
       "      <th>SID</th>\n",
       "      <th>S_Name</th>\n",
       "      <th>S_Course</th>\n",
       "      <th>Address</th>\n",
       "    </tr>\n",
       "  </thead>\n",
       "  <tbody>\n",
       "    <tr>\n",
       "      <th>0</th>\n",
       "      <td>57</td>\n",
       "      <td>Divyanshu</td>\n",
       "      <td>BCA</td>\n",
       "      <td>Delhi</td>\n",
       "    </tr>\n",
       "    <tr>\n",
       "      <th>1</th>\n",
       "      <td>100</td>\n",
       "      <td>farhan</td>\n",
       "      <td>BCA</td>\n",
       "      <td>Delhi</td>\n",
       "    </tr>\n",
       "    <tr>\n",
       "      <th>2</th>\n",
       "      <td>1</td>\n",
       "      <td>dev</td>\n",
       "      <td>BCOM</td>\n",
       "      <td>janakpuri</td>\n",
       "    </tr>\n",
       "    <tr>\n",
       "      <th>3</th>\n",
       "      <td>2</td>\n",
       "      <td>monkey</td>\n",
       "      <td>BCA</td>\n",
       "      <td>IITM Janakpuri</td>\n",
       "    </tr>\n",
       "    <tr>\n",
       "      <th>4</th>\n",
       "      <td>3</td>\n",
       "      <td>abhi</td>\n",
       "      <td>BBA</td>\n",
       "      <td>delhi</td>\n",
       "    </tr>\n",
       "    <tr>\n",
       "      <th>5</th>\n",
       "      <td>4</td>\n",
       "      <td>divu</td>\n",
       "      <td>BCOM</td>\n",
       "      <td>dwarka</td>\n",
       "    </tr>\n",
       "    <tr>\n",
       "      <th>6</th>\n",
       "      <td>5</td>\n",
       "      <td>anjali</td>\n",
       "      <td>BBA</td>\n",
       "      <td>janakpuri</td>\n",
       "    </tr>\n",
       "  </tbody>\n",
       "</table>\n",
       "</div>"
      ],
      "text/plain": [
       "   SID     S_Name S_Course         Address\n",
       "0   57  Divyanshu      BCA           Delhi\n",
       "1  100     farhan      BCA           Delhi\n",
       "2    1        dev     BCOM       janakpuri\n",
       "3    2     monkey      BCA  IITM Janakpuri\n",
       "4    3       abhi      BBA           delhi\n",
       "5    4       divu     BCOM          dwarka\n",
       "6    5     anjali      BBA       janakpuri"
      ]
     },
     "execution_count": 10,
     "metadata": {},
     "output_type": "execute_result"
    }
   ],
   "source": [
    "show_rec(\"day5\",\"s_details\")"
   ]
  },
  {
   "cell_type": "code",
   "execution_count": null,
   "id": "554066b5",
   "metadata": {},
   "outputs": [],
   "source": [
    "conn.close()"
   ]
  }
 ],
 "metadata": {
  "kernelspec": {
   "display_name": "Python 3",
   "language": "python",
   "name": "python3"
  },
  "language_info": {
   "codemirror_mode": {
    "name": "ipython",
    "version": 3
   },
   "file_extension": ".py",
   "mimetype": "text/x-python",
   "name": "python",
   "nbconvert_exporter": "python",
   "pygments_lexer": "ipython3",
   "version": "3.13.5"
  }
 },
 "nbformat": 4,
 "nbformat_minor": 5
}
