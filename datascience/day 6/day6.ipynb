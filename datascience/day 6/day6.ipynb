{
 "cells": [
  {
   "cell_type": "markdown",
   "id": "955567e7",
   "metadata": {},
   "source": [
    "OOPS IN PYTHON  "
   ]
  },
  {
   "cell_type": "code",
   "execution_count": null,
   "id": "69ff0e01",
   "metadata": {},
   "outputs": [],
   "source": [
    "class Iitm: #always start classes name with upper case or first word should be in uppercase for a good programing\n",
    "    def intro():\n",
    "        print (\"Hello bro wassup\")\n",
    "    def say_hello():\n",
    "        print (\"Hello buddy\")\n",
    "    def bye():\n",
    "        print (\"Bye bro phir milenge kabhi\")"
   ]
  },
  {
   "cell_type": "code",
   "execution_count": null,
   "id": "689aec1e",
   "metadata": {},
   "outputs": [],
   "source": [
    "a=Iitm()\n",
    "print(type(a))\n"
   ]
  },
  {
   "cell_type": "markdown",
   "id": "0ff920bb",
   "metadata": {},
   "source": [
    "main matlab user define hai and main abhi jo current instance chl raha hai uska part hai agr hum import karenge tb main nahi aayega "
   ]
  },
  {
   "cell_type": "code",
   "execution_count": null,
   "id": "2dd7c02e",
   "metadata": {},
   "outputs": [],
   "source": [
    "class Remote:\n",
    "    def __init__(self): #class constructor, magic method, dunder method - these are the name of this init class\n",
    "        print (\"This run by default without calling \")\n",
    "    def volume_up(self):\n",
    "        ... # this is also used for pass its shortcut \n",
    "        print (\"Volume up....\")\n",
    "    def volume_down(self):\n",
    "        pass\n",
    "    def insta_id(self):\n",
    "        import time\n",
    "        print (\"Searching instagram id....\")\n",
    "        time.sleep(3)\n",
    "        print (\"Follow @draj.divu on instagram\")\n",
    "\n",
    "    def __del__(self):\n",
    "        print (\"Object has been delete\")\n",
    "\n",
    "#self here mean its bind with self for run the function we need to bind "
   ]
  },
  {
   "cell_type": "code",
   "execution_count": null,
   "id": "7c29b6b8",
   "metadata": {},
   "outputs": [],
   "source": [
    "apple=Remote()\n",
    "print (\"Done\")"
   ]
  },
  {
   "cell_type": "code",
   "execution_count": null,
   "id": "c3ad756c",
   "metadata": {},
   "outputs": [],
   "source": [
    "apple.volume_up()\n",
    "apple.volume_down()\n"
   ]
  },
  {
   "cell_type": "code",
   "execution_count": null,
   "id": "2e3cc176",
   "metadata": {},
   "outputs": [],
   "source": [
    "apple.insta_id()"
   ]
  },
  {
   "cell_type": "code",
   "execution_count": null,
   "id": "3d9b19db",
   "metadata": {},
   "outputs": [],
   "source": [
    "del(apple)"
   ]
  },
  {
   "cell_type": "code",
   "execution_count": null,
   "id": "3b4ea73e",
   "metadata": {},
   "outputs": [],
   "source": [
    "import IPython.display\n",
    "\n",
    "\n",
    "class Car:\n",
    "    def __init__(self):  #instance variable\n",
    "         self.color=\"Black\"\n",
    "         self.type= \"Offroad\"\n",
    "         self.four_Wheel_Drive= True\n",
    "         self.Air_Bag=False\n",
    "         self.fuel_type=\"Petrol\"\n",
    "         self.car_Model=\"Monster truck\"\n",
    "         print (\"Ready hai car model\")\n",
    "\n",
    "    def auto_Park(self):\n",
    "         import IPython\n",
    "         url=\"https://media1.tenor.com/m/sBd7TlPhJsoAAAAd/funny-driving.gif\"\n",
    "         display(IPython.display.Image(url))\n",
    "\n",
    "    def Engine_Sound(self):\n",
    "         import pygame\n",
    "         pygame.init()\n",
    "         path=\"engine_sound.mp3\"\n",
    "         sound=pygame.mixer.Sound(path)\n",
    "         sound.play()\n",
    "    \n",
    "    def speed(self):\n",
    "         c=10\n",
    "         import time\n",
    "         while c<=200:\n",
    "              print(f'Speed Increase by {c} km/hr')\n",
    "              c+= 10\n",
    "              display(clear=True)\n",
    "              time.sleep(1)\n",
    "              if c>=100:\n",
    "                   print(\"You are close to god soon....\")\n",
    "         \n",
    "    def drifting(self):\n",
    "         import IPython\n",
    "         import pygame as py\n",
    "         print (\"Car hai drifting ke liye....\")\n",
    "         url='''https://media.tenor.com/EbJpd5b4jvMAAAAM/supernatural-dean-winchester.gif'''\n",
    "         display(IPython.display.Image(url))\n",
    "         print(\"Chl tu sound hi sunn leh khus ho jaa..\")\n",
    "         py.init()\n",
    "         path=\"Car Drifting Sound Effect.mp3\"\n",
    "         sound=py.mixer.Sound(path)\n",
    "         sound.play()\n",
    "\n",
    "                      "
   ]
  },
  {
   "cell_type": "code",
   "execution_count": null,
   "id": "044e50bc",
   "metadata": {},
   "outputs": [],
   "source": [
    "car=Car()\n",
    "# car.auto_Park()\n",
    "car.drifting()\n",
    "# car.Engine_Sound()\n",
    "# car.speed()"
   ]
  },
  {
   "cell_type": "code",
   "execution_count": null,
   "id": "ffc7d4d7",
   "metadata": {},
   "outputs": [],
   "source": [
    "kia=Car()\n",
    "kia.Air_Bag\n",
    "kia.car_Model"
   ]
  },
  {
   "cell_type": "code",
   "execution_count": null,
   "id": "a6e00eef",
   "metadata": {},
   "outputs": [],
   "source": [
    "tata=Car()"
   ]
  },
  {
   "cell_type": "code",
   "execution_count": null,
   "id": "72bd40a5",
   "metadata": {},
   "outputs": [],
   "source": [
    "audi=Car()"
   ]
  },
  {
   "cell_type": "code",
   "execution_count": null,
   "id": "da8060fe",
   "metadata": {},
   "outputs": [],
   "source": [
    "tata.color"
   ]
  },
  {
   "cell_type": "code",
   "execution_count": null,
   "id": "57463b17",
   "metadata": {},
   "outputs": [],
   "source": [
    "tata.color= 'red'"
   ]
  },
  {
   "cell_type": "code",
   "execution_count": null,
   "id": "e64e6216",
   "metadata": {},
   "outputs": [],
   "source": [
    "tata.color #here we can change instance of one obbject but that affect on other "
   ]
  },
  {
   "cell_type": "code",
   "execution_count": null,
   "id": "83aedc96",
   "metadata": {},
   "outputs": [],
   "source": [
    "audi.color"
   ]
  },
  {
   "cell_type": "markdown",
   "id": "639904b6",
   "metadata": {},
   "source": [
    "method and instance difference \n",
    "1. instanc mai blacket not required method use bracket for calling\n",
    "2. instance can be modifed and change but method same for every object "
   ]
  },
  {
   "cell_type": "markdown",
   "id": "37d44e86",
   "metadata": {},
   "source": [
    "Access modifier:\n",
    "1. public \n",
    "2. private \n",
    "3. protected "
   ]
  },
  {
   "cell_type": "code",
   "execution_count": null,
   "id": "7b62c48d",
   "metadata": {},
   "outputs": [],
   "source": [
    "class ATM:\n",
    "    def __inti__(self):\n",
    "        self._pin=1111 # if we use 2 underscore it become private. if there is no underscore mean its public. if one then it become protected  \n",
    "        self._balance= 20000\n",
    "    \n",
    "    def change_pin(self):\n",
    "        self._pin= int(input(\"Enter New PIN: \"))\n",
    "        print(\"PIN has been change\")\n",
    "\n",
    "    def balance(self):\n",
    "        print (f'Your current balance is {self._balance}')\n",
    "    \n",
    "    def atm_perfoemance (self):\n",
    "        print(\"ATM working properly ^_^ \")\n",
    "    "
   ]
  },
  {
   "cell_type": "code",
   "execution_count": null,
   "id": "08787f4a",
   "metadata": {},
   "outputs": [],
   "source": [
    "icic=ATM()"
   ]
  },
  {
   "cell_type": "code",
   "execution_count": null,
   "id": "8a2eaf93",
   "metadata": {},
   "outputs": [],
   "source": [
    "icic.change_pin()"
   ]
  },
  {
   "cell_type": "code",
   "execution_count": null,
   "id": "623235dc",
   "metadata": {},
   "outputs": [],
   "source": [
    "icic._pin"
   ]
  },
  {
   "cell_type": "code",
   "execution_count": null,
   "id": "c0450d8b",
   "metadata": {},
   "outputs": [],
   "source": [
    "class ATM1:\n",
    "    def __inti__(self):\n",
    "        self.__pin=1111 # private   \n",
    "        self.__balance= 20000  #private\n",
    "    \n",
    "    def change_pin(self):\n",
    "        self.__pin= int(input(\"Enter New PIN: \"))\n",
    "        print(\"PIN has been change\")\n",
    "\n",
    "    def balance(self):\n",
    "        print (f'Your current balance is {self.__balance}')\n",
    "    \n",
    "    def __atm_perfoemance (self):\n",
    "        print(\"ATM working properly ^_^ \")\n",
    "    "
   ]
  },
  {
   "cell_type": "code",
   "execution_count": null,
   "id": "61c7ad3f",
   "metadata": {},
   "outputs": [],
   "source": [
    "sbi=ATM1()"
   ]
  },
  {
   "cell_type": "code",
   "execution_count": null,
   "id": "94d156fb",
   "metadata": {},
   "outputs": [],
   "source": [
    "sbi.__pin"
   ]
  },
  {
   "cell_type": "code",
   "execution_count": null,
   "id": "6ed8b607",
   "metadata": {},
   "outputs": [],
   "source": [
    "sbi.change_pin()"
   ]
  },
  {
   "cell_type": "code",
   "execution_count": null,
   "id": "446e9ce8",
   "metadata": {},
   "outputs": [],
   "source": [
    "#if we want to access the private value then we need to then we need to give first class name then variable name \n",
    "sbi._ATM1__pin"
   ]
  },
  {
   "cell_type": "code",
   "execution_count": null,
   "id": "67a48ccd",
   "metadata": {},
   "outputs": [],
   "source": []
  }
 ],
 "metadata": {
  "kernelspec": {
   "display_name": "Python 3",
   "language": "python",
   "name": "python3"
  },
  "language_info": {
   "codemirror_mode": {
    "name": "ipython",
    "version": 3
   },
   "file_extension": ".py",
   "mimetype": "text/x-python",
   "name": "python",
   "nbconvert_exporter": "python",
   "pygments_lexer": "ipython3",
   "version": "3.13.5"
  }
 },
 "nbformat": 4,
 "nbformat_minor": 5
}
