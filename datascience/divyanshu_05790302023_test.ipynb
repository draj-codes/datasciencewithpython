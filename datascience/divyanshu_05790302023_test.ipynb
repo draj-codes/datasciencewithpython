{
 "cells": [
  {
   "cell_type": "markdown",
   "id": "38a96cf8",
   "metadata": {},
   "source": [
    "Section one theory "
   ]
  },
  {
   "cell_type": "code",
   "execution_count": null,
   "id": "b7221535",
   "metadata": {},
   "outputs": [],
   "source": [
    "# Q1\n",
    "# list is a mutable and tuple is imutable which mean we can not make change after the creating\n",
    "# "
   ]
  },
  {
   "cell_type": "code",
   "execution_count": null,
   "id": "52bb65d8",
   "metadata": {},
   "outputs": [],
   "source": [
    "# Q2\n",
    "# input is used to take a value from the user. it take string value"
   ]
  },
  {
   "cell_type": "code",
   "execution_count": null,
   "id": "5852c05a",
   "metadata": {},
   "outputs": [],
   "source": [
    "# q3\n",
    "# dictionary are mutable where our data store in the form of key and values. \n",
    "# syntax of dictionary is = d{key:value}\n",
    "# code for dictionary \n",
    "d={}\n",
    "for i in range (0,3):\n",
    "    key=input(\"Enter key:\")\n",
    "    val= input(\"Enter value : \")\n",
    "    d[key]=val\n",
    "print (\"This is what you enter\")\n",
    "for i in range(0,3):\n",
    "    print(key,\":\",d[key])"
   ]
  },
  {
   "cell_type": "code",
   "execution_count": null,
   "id": "2fce59a5",
   "metadata": {},
   "outputs": [],
   "source": [
    "# q4\n",
    "# for loop is used to run the program in a range \n",
    "for i in range (1,6):\n",
    "    print (i)"
   ]
  },
  {
   "cell_type": "code",
   "execution_count": null,
   "id": "fdb4762f",
   "metadata": {},
   "outputs": [],
   "source": [
    "# q5\n",
    "# exception handling is used for overetake the error so that our program not stop in the middle\n",
    "# try is the main block where we think the error come\n",
    "# except is used what the result show after the error \n",
    "# finally is the block which run if the error come or not \n",
    "print (\"This is a divide code\")\n",
    "a=int(input(\"Enter a number : \"))\n",
    "b=int(input(\"Enter another number : \"))\n",
    "try:\n",
    "    c=a/b\n",
    "    print (f\"The result is {c}\")\n",
    "except:\n",
    "    print (\"Cannot be divided by zero\")\n",
    "finally:\n",
    "    print(\"Thanks for using divyanshu code\")"
   ]
  },
  {
   "cell_type": "code",
   "execution_count": null,
   "id": "3bb05954",
   "metadata": {},
   "outputs": [],
   "source": [
    "# Q6\n",
    "# Module are group of define for performing the simliar things. it is of two type user define module and prebuild module or pre define module\n",
    "# \"import math\" and \"from math import sqrt\" in first we import everything but in second we only import a single function \n",
    "# used- we use so for save the memory if we know we need to use only single function so that we used second method but if we need to used many function then we used first method\n"
   ]
  },
  {
   "cell_type": "code",
   "execution_count": null,
   "id": "2e2b8708",
   "metadata": {},
   "outputs": [],
   "source": [
    "# q7\n",
    "# oops mean anything we do in the form of classes and object \n",
    "class A:\n",
    "    def a1():\n",
    "        print (\"class A called\")\n",
    "\n",
    "d=A.a1()"
   ]
  },
  {
   "cell_type": "code",
   "execution_count": null,
   "id": "ee3845c4",
   "metadata": {},
   "outputs": [],
   "source": [
    "# q8\n",
    "# list comprehension mean compile the code in a single line.which save the memory and make our code short \n",
    "result=[]\n",
    "for x in range(10):\n",
    "result.append(x*2)if x%2==0: else: print(\"wrong\")"
   ]
  },
  {
   "cell_type": "code",
   "execution_count": null,
   "id": "6f9a802a",
   "metadata": {},
   "outputs": [],
   "source": [
    "# q9\n",
    "def calculate_area(r):\n",
    "    a=3.14*(r*r)\n",
    "    print (\"The area of circle is \", a)\n",
    "calculate_area(5)"
   ]
  },
  {
   "cell_type": "code",
   "execution_count": null,
   "id": "cfe11a06",
   "metadata": {},
   "outputs": [],
   "source": [
    "# q10\n",
    "def greet(name,age):\n",
    "    print(f\"Hello {name}, You are {age} year old!\")\n",
    "greet(\"Divyanshu\",20)"
   ]
  },
  {
   "cell_type": "code",
   "execution_count": null,
   "id": "e13b323f",
   "metadata": {},
   "outputs": [],
   "source": [
    "# q11\n",
    "l=[\"aman\",\"Divyanshu\",\"Dev\",\"Divu\",'Farhan']\n",
    "a=0\n",
    "for i in l:\n",
    "    print(\"position \",a,\"value \",i)\n",
    "    a+=1"
   ]
  },
  {
   "cell_type": "code",
   "execution_count": null,
   "id": "87330537",
   "metadata": {},
   "outputs": [],
   "source": [
    "# q12\n",
    "def grade_calculator(marks):\n",
    "    if marks>=90 and marks<=100:\n",
    "        print (\"your Grade is A\")\n",
    "    elif marks>=80 and marks<=89:\n",
    "        print (\"your Grade is B\")\n",
    "    elif marks>=70 and marks<=79:\n",
    "        print (\"your Grade is C\")\n",
    "    elif marks>=60 and marks<=69:\n",
    "        print (\"your Grade is D\")\n",
    "    elif marks<=59:\n",
    "        print (\"your Grade is F\")\n",
    "\n",
    "grade_calculator(92)\n",
    "grade_calculator(20)\n",
    "grade_calculator(87)\n",
    "grade_calculator(77)\n",
    "grade_calculator(46)\n",
    "grade_calculator(65)\n"
   ]
  },
  {
   "cell_type": "code",
   "execution_count": null,
   "id": "e46432d7",
   "metadata": {},
   "outputs": [],
   "source": [
    "# q13\n",
    "f=open(\"Number.txt\",\"r\")\n",
    "a=f.readline()\n",
    "sum+=a\n",
    "f.close()\n",
    "f=open(\"result.txt\",\"w\")\n",
    "f.write(sum)\n",
    "f.close"
   ]
  },
  {
   "cell_type": "code",
   "execution_count": null,
   "id": "166d1b21",
   "metadata": {},
   "outputs": [],
   "source": [
    "# q14\n",
    "class bankaccount:\n",
    "    def __init__(self,name,balance):\n",
    "        holder_name=name\n",
    "        holder_balance=balance\n",
    "    def deposit(m):\n",
    "        holder_balance\n",
    "        "
   ]
  },
  {
   "cell_type": "code",
   "execution_count": null,
   "id": "a68d820c",
   "metadata": {},
   "outputs": [],
   "source": [
    "# q15\n",
    "t=0\n",
    "for i in range(2,51):\n",
    "    if (i%i==0):\n",
    "        print(i,\" is a prime number\")\n",
    "        t+=1\n",
    "print (\"Total prime Number is \",t)"
   ]
  }
 ],
 "metadata": {
  "kernelspec": {
   "display_name": "Python 3",
   "language": "python",
   "name": "python3"
  },
  "language_info": {
   "codemirror_mode": {
    "name": "ipython",
    "version": 3
   },
   "file_extension": ".py",
   "mimetype": "text/x-python",
   "name": "python",
   "nbconvert_exporter": "python",
   "pygments_lexer": "ipython3",
   "version": "3.13.5"
  }
 },
 "nbformat": 4,
 "nbformat_minor": 5
}
