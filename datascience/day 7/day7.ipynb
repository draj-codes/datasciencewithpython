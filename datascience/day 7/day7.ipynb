{
 "cells": [
  {
   "cell_type": "markdown",
   "id": "03bcf9d5",
   "metadata": {},
   "source": [
    "OOPS Continue "
   ]
  },
  {
   "cell_type": "markdown",
   "id": "1d31fd57",
   "metadata": {},
   "source": [
    "Inheritance \n",
    "1. simple inheritance \n",
    "2. multiple inheritance\n",
    "3. Multi level inheritance\n",
    "4. Hybride inheritance \n",
    "5. heirarchical inhertiance "
   ]
  },
  {
   "cell_type": "code",
   "execution_count": null,
   "id": "9cc54d07",
   "metadata": {},
   "outputs": [],
   "source": [
    "# simple inheritance \n",
    "class BMW:\n",
    "    def turbo_mode(slef):\n",
    "        print (\"BMW can run in turbo mode\")\n",
    "\n",
    "class AUDI (BMW): # for inheritance we just need to wirte the other class name inside the bracket\n",
    "    def auto_mode(self): \n",
    "        print (\"Audi run in auto piolet mode \")"
   ]
  },
  {
   "cell_type": "code",
   "execution_count": null,
   "id": "03504057",
   "metadata": {},
   "outputs": [],
   "source": [
    "beast = AUDI()\n",
    "beast.turbo_mode()\n"
   ]
  },
  {
   "cell_type": "code",
   "execution_count": null,
   "id": "43e1b516",
   "metadata": {},
   "outputs": [],
   "source": [
    "#multiple inheritance\n",
    "class Samsung:\n",
    "    def screen(self):\n",
    "        print (\"Screen taken from samasung\")\n",
    "\n",
    "class JBL:\n",
    "    def speakers(self):\n",
    "        print (\"Using JBL speakers\")\n",
    "class Sony:\n",
    "    def camera(self):\n",
    "        print (\"Phone have sony camera\")\n",
    "\n",
    "class Snapdragon:\n",
    "    def processor(slef):\n",
    "        print (\"Snapdragon give power to phone\")\n",
    "\n",
    "class Qualcom:\n",
    "    def processor():\n",
    "        print(\"Power by Qualcom\")\n",
    "\n",
    "class Mobile(Samsung,JBL,Sony,Snapdragon):\n",
    "    def __init__(self):\n",
    "        print(\"Phone is almost done\")\n",
    "    def processor(self):\n",
    "        print(\"Power By A18 bionic chip\")\n"
   ]
  },
  {
   "cell_type": "code",
   "execution_count": null,
   "id": "b371f849",
   "metadata": {},
   "outputs": [],
   "source": [
    "apple=Mobile()"
   ]
  },
  {
   "cell_type": "code",
   "execution_count": null,
   "id": "832d8cc1",
   "metadata": {},
   "outputs": [],
   "source": [
    "apple.processor()"
   ]
  },
  {
   "cell_type": "code",
   "execution_count": null,
   "id": "6e6e028a",
   "metadata": {},
   "outputs": [],
   "source": [
    "#multilevel inheritance\n",
    "class Dadaji:\n",
    "    def mere_kamai(self):\n",
    "        print (\"Mera beta leh lega mere mrne kr baad mere kamai\")\n",
    "class Papa(Dadaji):\n",
    "    def papakikamai(self):\n",
    "        print (\"mere papa ki kamai ab mera beta leh lega mere jane ke baad\")\n",
    "\n",
    "class Beta(Papa):\n",
    "    def khandani_Paisa(self):\n",
    "        print (\"Mere papa or dada ki kamai pr mere Wife maje karenge\")\n",
    "\n",
    "class wife(Beta):\n",
    "    def __init__(self):\n",
    "        print(\"ek fortuner ke badle patii ke paise pr maje karungi\")\n",
    "    \n"
   ]
  },
  {
   "cell_type": "code",
   "execution_count": null,
   "id": "2b0fdf65",
   "metadata": {},
   "outputs": [],
   "source": [
    "Wify=wife()"
   ]
  },
  {
   "cell_type": "code",
   "execution_count": null,
   "id": "bfcc0581",
   "metadata": {},
   "outputs": [],
   "source": [
    "Wify.khandani_Paisa()"
   ]
  },
  {
   "cell_type": "code",
   "execution_count": null,
   "id": "7b227d0d",
   "metadata": {},
   "outputs": [],
   "source": [
    "#hybrid\n",
    "class Hybrid(wife,Mobile,AUDI):\n",
    "    def __init__(self):\n",
    "        print (\"Message from Hybrid class\")"
   ]
  },
  {
   "cell_type": "code",
   "execution_count": null,
   "id": "5d5ec4c7",
   "metadata": {},
   "outputs": [],
   "source": [
    "hyb=Hybrid()\n",
    "hyb.processor()"
   ]
  },
  {
   "cell_type": "code",
   "execution_count": null,
   "id": "07f368c5",
   "metadata": {},
   "outputs": [],
   "source": [
    "#heirarchical \n",
    "class UGC: \n",
    "  def __init__(self):\n",
    "    print('Give university Permission')\n",
    "  def college_approved(self):\n",
    "    print('College Has been Approved')\n",
    "\n",
    "class DU(UGC):\n",
    "  def multiple_colleges(self):\n",
    "    print('List of Colleges')\n",
    "\n",
    "class IP(UGC):\n",
    "  def multiple_colleges(self):\n",
    "    print('List of Colleges')\n",
    "\n",
    "\n",
    "class DTU(UGC):\n",
    "  def multiple_colleges(self):\n",
    "    print('List of Colleges')\n",
    "\n",
    "class BHU(UGC):\n",
    "  def multiple_colleges(self):\n",
    "    print('List of Colleges')"
   ]
  },
  {
   "cell_type": "code",
   "execution_count": null,
   "id": "aa046c05",
   "metadata": {},
   "outputs": [],
   "source": [
    "uni=UGC()"
   ]
  },
  {
   "cell_type": "code",
   "execution_count": null,
   "id": "cecfdc79",
   "metadata": {},
   "outputs": [],
   "source": [
    "univ=DU()"
   ]
  },
  {
   "cell_type": "code",
   "execution_count": null,
   "id": "0329d85a",
   "metadata": {},
   "outputs": [],
   "source": [
    "univ.multiple_colleges()\n",
    "univ.college_approved()"
   ]
  },
  {
   "cell_type": "code",
   "execution_count": null,
   "id": "9b76ccff",
   "metadata": {},
   "outputs": [],
   "source": [
    "#overriding\n",
    "class Car:\n",
    "  def speed(self):\n",
    "    return ('Max speed 200 km/hr')\n",
    "\n",
    "  def auto_pilot(self):\n",
    "    print('It supports Auto Pilot Mode!!')\n",
    "\n",
    "  def info(self):\n",
    "    print('This is just a car object')\n",
    "\n",
    "\n",
    "class Bmw(Car):\n",
    "  def speed(self):\n",
    "    return ('Max speed 250 km/hr')\n",
    "\n",
    "  def info(self):\n",
    "    print('A BMW car object')\n",
    "\n",
    "\n",
    "\n",
    "class Bugati(Car):\n",
    "  def speed(self):\n",
    "    return ('Max speed 300 km/hr')\n",
    "\n",
    "  def info(self):\n",
    "    print('Bugati car')\n",
    "\n",
    "\n",
    "for i in [Car,Bmw,Bugati]:\n",
    "  f1 = i()\n",
    "  print (\"f1 car Speed\", f1.speed())\n",
    "\n"
   ]
  },
  {
   "cell_type": "code",
   "execution_count": null,
   "id": "a24c0c84",
   "metadata": {},
   "outputs": [],
   "source": [
    "#overloading\n",
    "class IITM:\n",
    "\n",
    "  def intro(self,name = None,address = None):\n",
    "    if (name == None) and (address == None):\n",
    "      print('Hello Candidates!!')\n",
    "\n",
    "    elif name != None and address==None:\n",
    "      print(f'Hello {name},how are you??')\n",
    "\n",
    "    elif (name != None) and  (address != None):\n",
    "      print(f'Hello {name},how are you??')\n",
    "      print(f'Your Address is {address}')\n",
    "\n",
    "    else:\n",
    "      print('Hello Buddy!!')\n",
    "\n",
    "a=IITM()\n",
    "a.intro()\n",
    "a.intro(\"dev\")\n",
    "a.intro(\"dev\",\"delhi\")\n",
    "a.intro(address=\"delhi\")\n"
   ]
  },
  {
   "cell_type": "code",
   "execution_count": 26,
   "id": "d3a600f5",
   "metadata": {},
   "outputs": [
    {
     "name": "stdout",
     "output_type": "stream",
     "text": [
      "We successfully by pass the abstraction\n",
      "Logout successfully\n",
      "Signup successfully\n"
     ]
    }
   ],
   "source": [
    "# abstraction\n",
    "from abc import ABC, abstractmethod\n",
    "class Web(ABC):\n",
    "\n",
    "    @abstractmethod\n",
    "    def login(self):\n",
    "        print(\"Login successfully\")\n",
    "\n",
    "    @abstractmethod\n",
    "    def logout(self):\n",
    "        print (\"Successfully logout\")\n",
    "\n",
    "class Xyz(Web):\n",
    "\n",
    "    def signup(self):\n",
    "        print (\"Signup successfully\")\n",
    "\n",
    "    def login(self):\n",
    "        print(\"We successfully by pass the abstraction\")\n",
    "    \n",
    "    def logout(self):\n",
    "        print(\"Logout successfully\")\n",
    "\n",
    "\n",
    "b=Xyz()\n",
    "b.login()\n",
    "b.logout()\n",
    "b.signup()\n",
    "# a=Web()\n",
    "# print(\"Done\")"
   ]
  },
  {
   "cell_type": "code",
   "execution_count": null,
   "id": "f0c9ed20",
   "metadata": {},
   "outputs": [],
   "source": []
  }
 ],
 "metadata": {
  "kernelspec": {
   "display_name": "Python 3",
   "language": "python",
   "name": "python3"
  },
  "language_info": {
   "codemirror_mode": {
    "name": "ipython",
    "version": 3
   },
   "file_extension": ".py",
   "mimetype": "text/x-python",
   "name": "python",
   "nbconvert_exporter": "python",
   "pygments_lexer": "ipython3",
   "version": "3.13.5"
  }
 },
 "nbformat": 4,
 "nbformat_minor": 5
}
