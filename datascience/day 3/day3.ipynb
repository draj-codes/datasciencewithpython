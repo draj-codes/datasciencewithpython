{
 "cells": [
  {
   "cell_type": "code",
   "execution_count": null,
   "id": "9121eda5",
   "metadata": {},
   "outputs": [],
   "source": [
    "#excpetion handling\n",
    "age = '10'\n",
    "age = int(input(\"Enter Age: \"))\n",
    "try:\n",
    "    if age >=18:\n",
    "        print (\"You can vote\")\n",
    "    else:\n",
    "        print ('You can\\'t  vote')  #\\ is used for add quotes wihout end it \n",
    "except:\n",
    "    print (\"Sahi sai likh age gtl dala hai\")\n"
   ]
  },
  {
   "cell_type": "code",
   "execution_count": null,
   "id": "140b789f",
   "metadata": {},
   "outputs": [],
   "source": [
    "def student_rocords(**kwargs):\n",
    "    import pandas as pd\n",
    "    try:\n",
    "        r= pd.DataFrame(kwargs)\n",
    "        print (r)\n",
    "    except:\n",
    "        r= pd.DataFrame(kwargs, index=[1])\n",
    "        print (r)\n",
    "\n",
    "# student_rocords(Name = 'Dev',Age = 19, address = \"Delhi\") # if we want to add multuiple then use list\n",
    "import IPython as IP\n",
    "student_rocords(Name = [\"Dev\", \"divyanshu\",\"raj\"],\n",
    "                Age = [20,19,21],\n",
    "                Address = [\"Delhi\",\"noida\",'up'])"
   ]
  },
  {
   "cell_type": "code",
   "execution_count": 10,
   "id": "efa86b5c",
   "metadata": {},
   "outputs": [
    {
     "data": {
      "text/html": [
       "<div>\n",
       "<style scoped>\n",
       "    .dataframe tbody tr th:only-of-type {\n",
       "        vertical-align: middle;\n",
       "    }\n",
       "\n",
       "    .dataframe tbody tr th {\n",
       "        vertical-align: top;\n",
       "    }\n",
       "\n",
       "    .dataframe thead th {\n",
       "        text-align: right;\n",
       "    }\n",
       "</style>\n",
       "<table border=\"1\" class=\"dataframe\">\n",
       "  <thead>\n",
       "    <tr style=\"text-align: right;\">\n",
       "      <th></th>\n",
       "      <th>Name</th>\n",
       "      <th>Age</th>\n",
       "      <th>Address</th>\n",
       "    </tr>\n",
       "  </thead>\n",
       "  <tbody>\n",
       "    <tr>\n",
       "      <th>0</th>\n",
       "      <td>Dev</td>\n",
       "      <td>20</td>\n",
       "      <td>Delhi</td>\n",
       "    </tr>\n",
       "    <tr>\n",
       "      <th>1</th>\n",
       "      <td>Divyanshu</td>\n",
       "      <td>19</td>\n",
       "      <td>Noida</td>\n",
       "    </tr>\n",
       "    <tr>\n",
       "      <th>2</th>\n",
       "      <td>Raj</td>\n",
       "      <td>21</td>\n",
       "      <td>UP</td>\n",
       "    </tr>\n",
       "  </tbody>\n",
       "</table>\n",
       "</div>"
      ],
      "text/plain": [
       "        Name  Age Address\n",
       "0        Dev   20   Delhi\n",
       "1  Divyanshu   19   Noida\n",
       "2        Raj   21      UP"
      ]
     },
     "metadata": {},
     "output_type": "display_data"
    }
   ],
   "source": [
    "def student_rocords(**kwargs):\n",
    "    import pandas as pd\n",
    "    from IPython.display import display  # This shows styled output (if you're in Jupyter or interactive window)\n",
    "\n",
    "    try:\n",
    "        r = pd.DataFrame(kwargs)\n",
    "        display(r)\n",
    "    except:\n",
    "        r = pd.DataFrame(kwargs, index=[1])\n",
    "        display(r)\n",
    "\n",
    "# Example usage:\n",
    "student_rocords(Name=[\"Dev\", \"Divyanshu\", \"Raj\"],\n",
    "                Age=[20, 19, 21],\n",
    "                Address=[\"Delhi\", \"Noida\", \"UP\"])\n"
   ]
  },
  {
   "cell_type": "code",
   "execution_count": 9,
   "id": "8fb1d244",
   "metadata": {},
   "outputs": [
    {
     "name": "stdout",
     "output_type": "stream",
     "text": [
      "        Name  Age Address\n",
      "0        Dev   20   Delhi\n",
      "1  divyanshu   19   noida\n",
      "2        raj   21      up\n"
     ]
    }
   ],
   "source": [
    "student_rocords(Name = [\"Dev\", \"divyanshu\",\"raj\"],\n",
    "                Age = [20,19,21],\n",
    "                Address = [\"Delhi\",\"noida\",'up'])"
   ]
  },
  {
   "cell_type": "code",
   "execution_count": 7,
   "id": "3b22e582",
   "metadata": {},
   "outputs": [
    {
     "name": "stdout",
     "output_type": "stream",
     "text": [
      "Fri Jul  4 10:43:39 2025\n",
      "User intreput\n"
     ]
    }
   ],
   "source": [
    "def show_time():\n",
    "    try:\n",
    "        while True:\n",
    "            import time\n",
    "            print (time.asctime())\n",
    "            time.sleep(1)\n",
    "            display(clear = True)\n",
    "    except:\n",
    "        print (\"User intreput\")\n",
    "\n",
    "show_time()"
   ]
  },
  {
   "cell_type": "code",
   "execution_count": 15,
   "id": "bb5b3677",
   "metadata": {},
   "outputs": [
    {
     "name": "stdout",
     "output_type": "stream",
     "text": [
      "* \n",
      "* * \n",
      "* * * \n",
      "* * * * \n",
      "* * * * * \n",
      "        * \n",
      "      * * \n",
      "    * * * \n",
      "  * * * * \n",
      "* * * * * \n",
      "    * \n",
      "   * * \n",
      "  * * * \n",
      " * * * * \n",
      "* * * * * \n"
     ]
    }
   ],
   "source": [
    "def stars(n=5, typ='left', shape='*'):\n",
    "    for i in range(1, n + 1):\n",
    "        if typ == 'left':\n",
    "            print((shape + ' ') * i)\n",
    "        elif typ == 'right':\n",
    "            print(' ' * (n - i) * 2 + (shape + ' ') * i)\n",
    "        elif typ == 'middle':\n",
    "            print(' ' * (n - i) + (shape + ' ') * i)\n",
    "        else:\n",
    "            print(\"Invalid type. Use 'left', 'right', or 'middle'.\")\n",
    "stars()\n",
    "stars(5,'right','*')\n",
    "stars(5,\"middle\",'*')"
   ]
  },
  {
   "cell_type": "code",
   "execution_count": null,
   "id": "4212d7a0",
   "metadata": {},
   "outputs": [
    {
     "name": "stderr",
     "output_type": "stream",
     "text": [
      "c:\\Users\\divya\\AppData\\Local\\Programs\\Python\\Python313\\Lib\\site-packages\\pygame\\pkgdata.py:25: UserWarning: pkg_resources is deprecated as an API. See https://setuptools.pypa.io/en/latest/pkg_resources.html. The pkg_resources package is slated for removal as early as 2025-11-30. Refrain from using this package or pin to Setuptools<81.\n",
      "  from pkg_resources import resource_stream, resource_exists\n"
     ]
    },
    {
     "name": "stdout",
     "output_type": "stream",
     "text": [
      "pygame 2.6.1 (SDL 2.28.4, Python 3.13.5)\n",
      "Hello from the pygame community. https://www.pygame.org/contribute.html\n"
     ]
    }
   ],
   "source": [
    "def sound_bar(text):\n",
    "    from gtts import gTTS\n",
    "    # text = '''data science ki aaj first class hai '''\n",
    "    audio = gTTS(text)\n",
    "    audio.save('ds.mp3')\n",
    "\n",
    "    import pygame as pg\n",
    "    pg.init()\n",
    "    pg.mixer.init()\n",
    "    pg.mixer.Sound('ds.mp3').play()\n",
    "\n",
    "sound_bar(\"Patym pr 500 ruppe prapt hue\")"
   ]
  },
  {
   "cell_type": "code",
   "execution_count": null,
   "id": "d3e29d89",
   "metadata": {},
   "outputs": [],
   "source": []
  },
  {
   "cell_type": "code",
   "execution_count": null,
   "id": "06321e96",
   "metadata": {},
   "outputs": [],
   "source": []
  },
  {
   "cell_type": "code",
   "execution_count": null,
   "id": "2234c9a2",
   "metadata": {},
   "outputs": [],
   "source": []
  },
  {
   "cell_type": "code",
   "execution_count": 5,
   "id": "b9000795",
   "metadata": {},
   "outputs": [
    {
     "name": "stdout",
     "output_type": "stream",
     "text": [
      "done\n"
     ]
    }
   ],
   "source": [
    "import divyanshu as d\n",
    "print (\"done\")"
   ]
  },
  {
   "cell_type": "code",
   "execution_count": 4,
   "id": "5631b841",
   "metadata": {},
   "outputs": [
    {
     "name": "stdout",
     "output_type": "stream",
     "text": [
      "         @ \n",
      "        @ @ \n",
      "       @ @ @ \n",
      "      @ @ @ @ \n",
      "     @ @ @ @ @ \n",
      "    @ @ @ @ @ @ \n",
      "   @ @ @ @ @ @ @ \n",
      "  @ @ @ @ @ @ @ @ \n",
      " @ @ @ @ @ @ @ @ @ \n",
      "@ @ @ @ @ @ @ @ @ @ \n"
     ]
    }
   ],
   "source": [
    "d.stars(10,\"middle\",'@')\n"
   ]
  },
  {
   "cell_type": "code",
   "execution_count": 6,
   "id": "f2baed4d",
   "metadata": {},
   "outputs": [
    {
     "name": "stdout",
     "output_type": "stream",
     "text": [
      "Fri Jul  4 11:52:49 2025\n",
      "User intreput\n"
     ]
    }
   ],
   "source": [
    "d.show_time()"
   ]
  },
  {
   "cell_type": "code",
   "execution_count": 8,
   "id": "93667867",
   "metadata": {},
   "outputs": [
    {
     "name": "stdout",
     "output_type": "stream",
     "text": [
      " no. is a prime\n"
     ]
    }
   ],
   "source": [
    "d.prime(5)\n"
   ]
  },
  {
   "cell_type": "code",
   "execution_count": 9,
   "id": "4975c304",
   "metadata": {},
   "outputs": [
    {
     "name": "stderr",
     "output_type": "stream",
     "text": [
      "c:\\Users\\divya\\AppData\\Local\\Programs\\Python\\Python313\\Lib\\site-packages\\pygame\\pkgdata.py:25: UserWarning: pkg_resources is deprecated as an API. See https://setuptools.pypa.io/en/latest/pkg_resources.html. The pkg_resources package is slated for removal as early as 2025-11-30. Refrain from using this package or pin to Setuptools<81.\n",
      "  from pkg_resources import resource_stream, resource_exists\n"
     ]
    },
    {
     "name": "stdout",
     "output_type": "stream",
     "text": [
      "pygame 2.6.1 (SDL 2.28.4, Python 3.13.5)\n",
      "Hello from the pygame community. https://www.pygame.org/contribute.html\n"
     ]
    }
   ],
   "source": [
    "d.sound_bar(\"this id divyanshu program\")"
   ]
  },
  {
   "cell_type": "code",
   "execution_count": 1,
   "id": "8e5855aa",
   "metadata": {},
   "outputs": [
    {
     "name": "stdout",
     "output_type": "stream",
     "text": [
      "This is my modlue\n",
      "1035\n",
      "15\n"
     ]
    }
   ],
   "source": [
    "from divyanshu import sum_of_narutal\n",
    "sum_of_narutal(45)\n",
    "sum_of_narutal(5)"
   ]
  },
  {
   "cell_type": "code",
   "execution_count": null,
   "id": "d2643b63",
   "metadata": {},
   "outputs": [
    {
     "ename": "",
     "evalue": "",
     "output_type": "error",
     "traceback": [
      "\u001b[1;31mThe Kernel crashed while executing code in the current cell or a previous cell. \n",
      "\u001b[1;31mPlease review the code in the cell(s) to identify a possible cause of the failure. \n",
      "\u001b[1;31mClick <a href='https://aka.ms/vscodeJupyterKernelCrash'>here</a> for more info. \n",
      "\u001b[1;31mView Jupyter <a href='command:jupyter.viewOutput'>log</a> for further details."
     ]
    }
   ],
   "source": [
    "import turtle\n",
    "try:\n",
    "    for i in range (120):\n",
    "        turtle.speed(0)\n",
    "        turtle.bgcolor('blue')\n",
    "        col=['red','yellow','green','white']\n",
    "        import random\n",
    "        pic_color= random.choice(col)\n",
    "        turtle.color(pic_color)\n",
    "        turtle.circle(100)\n",
    "        turtle.left(3)\n",
    "except:\n",
    "    print (\"User intrupt\")"
   ]
  },
  {
   "cell_type": "code",
   "execution_count": null,
   "id": "e87ddc53",
   "metadata": {},
   "outputs": [
    {
     "ename": "",
     "evalue": "",
     "output_type": "error",
     "traceback": [
      "\u001b[1;31mThe Kernel crashed while executing code in the current cell or a previous cell. \n",
      "\u001b[1;31mPlease review the code in the cell(s) to identify a possible cause of the failure. \n",
      "\u001b[1;31mClick <a href='https://aka.ms/vscodeJupyterKernelCrash'>here</a> for more info. \n",
      "\u001b[1;31mView Jupyter <a href='command:jupyter.viewOutput'>log</a> for further details."
     ]
    }
   ],
   "source": [
    "import turtle\n",
    "try:\n",
    "    for i in range (3):\n",
    "        turtle.bgcolor(\"black\")\n",
    "        turtle.color(\"cyan\")\n",
    "        turtle.forward(300)\n",
    "        turtle.left(120)\n",
    "except:\n",
    "    print(\"user intrupt\")"
   ]
  },
  {
   "cell_type": "code",
   "execution_count": 10,
   "id": "9ad88261",
   "metadata": {},
   "outputs": [
    {
     "name": "stdout",
     "output_type": "stream",
     "text": [
      "# exception Handling\n",
      "\n"
     ]
    }
   ],
   "source": [
    "file = open('day3.py',\"r\")\n",
    "# print (file.read(10))\n",
    "print (file.readline())\n",
    "file.close()\n"
   ]
  },
  {
   "cell_type": "code",
   "execution_count": 12,
   "id": "0330b556",
   "metadata": {},
   "outputs": [
    {
     "name": "stdout",
     "output_type": "stream",
     "text": [
      "# try:\n",
      "\n"
     ]
    }
   ],
   "source": [
    "f= open ('day3.py','r')\n",
    "for i in range(4):\n",
    "    f.readline()\n",
    "print (f.readline())\n",
    "f.close()"
   ]
  },
  {
   "cell_type": "code",
   "execution_count": 13,
   "id": "1ad589ff",
   "metadata": {},
   "outputs": [
    {
     "name": "stdout",
     "output_type": "stream",
     "text": [
      "done\n"
     ]
    }
   ],
   "source": [
    "f= open('day3.py','r')\n",
    "data = f.readlines()   # this give data in a list formate\n",
    "f.close()\n",
    "print('done')"
   ]
  },
  {
   "cell_type": "code",
   "execution_count": 17,
   "id": "2efe3a09",
   "metadata": {},
   "outputs": [
    {
     "name": "stdout",
     "output_type": "stream",
     "text": [
      "# try:\n",
      "\n",
      "#     if age >=18:\n",
      "\n",
      "#         print (\"You can vote\")\n",
      "\n",
      "#     else:\n",
      "\n",
      "#         print ('You can\\'t  vote')  #\\ is used for add quotes wihout end it \n",
      "\n",
      "# except:\n",
      "\n"
     ]
    }
   ],
   "source": [
    "for i in range(4,10):\n",
    "    print(data[i])"
   ]
  },
  {
   "cell_type": "code",
   "execution_count": null,
   "id": "c26fcbb7",
   "metadata": {},
   "outputs": [],
   "source": []
  }
 ],
 "metadata": {
  "kernelspec": {
   "display_name": "Python 3",
   "language": "python",
   "name": "python3"
  },
  "language_info": {
   "codemirror_mode": {
    "name": "ipython",
    "version": 3
   },
   "file_extension": ".py",
   "mimetype": "text/x-python",
   "name": "python",
   "nbconvert_exporter": "python",
   "pygments_lexer": "ipython3",
   "version": "3.13.5"
  }
 },
 "nbformat": 4,
 "nbformat_minor": 5
}
