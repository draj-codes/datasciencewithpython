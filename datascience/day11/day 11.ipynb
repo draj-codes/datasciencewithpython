{
 "cells": [
  {
   "cell_type": "code",
   "execution_count": null,
   "id": "78d6b8ae",
   "metadata": {},
   "outputs": [],
   "source": [
    "import kagglehub\n",
    "\n",
    "# Download latest version\n",
    "path = kagglehub.dataset_download(\"manishkr1754/cardekho-used-car-data\")\n",
    "\n",
    "print(\"Path to dataset files:\", path)"
   ]
  },
  {
   "cell_type": "code",
   "execution_count": null,
   "id": "39e558ed",
   "metadata": {},
   "outputs": [],
   "source": [
    "import os\n",
    "all_files=os.listdir(path)# this show file folder\n",
    "all_files"
   ]
  },
  {
   "cell_type": "code",
   "execution_count": null,
   "id": "7606f04a",
   "metadata": {},
   "outputs": [],
   "source": [
    "file_path=path+'\\\\'+all_files[0] #this will give the path of the first file in the folder\n",
    "file_path"
   ]
  },
  {
   "cell_type": "code",
   "execution_count": null,
   "id": "237c5b2e",
   "metadata": {},
   "outputs": [],
   "source": [
    "#step1 - import module\n",
    "# step2 - read the file\n",
    "#step3 - show the data"
   ]
  },
  {
   "cell_type": "code",
   "execution_count": null,
   "id": "1b736d34",
   "metadata": {},
   "outputs": [],
   "source": [
    "import pandas as pd\n",
    "df=pd.read_csv(file_path) #this will read the first file in the folder as a dataframe\n",
    "print(\"DOne\")"
   ]
  },
  {
   "cell_type": "code",
   "execution_count": null,
   "id": "6d835487",
   "metadata": {},
   "outputs": [],
   "source": [
    "df.head()\n",
    "df.tail()\n",
    "df.info()"
   ]
  },
  {
   "cell_type": "code",
   "execution_count": null,
   "id": "2e20d6a4",
   "metadata": {},
   "outputs": [],
   "source": [
    "r,c= df.shape\n",
    "print(\"Rows:\", r, \"Columns:\", c)"
   ]
  },
  {
   "cell_type": "markdown",
   "id": "3339b245",
   "metadata": {},
   "source": [
    "Data Rangling and data manging = used for data cleaning "
   ]
  },
  {
   "cell_type": "code",
   "execution_count": null,
   "id": "1261780b",
   "metadata": {},
   "outputs": [],
   "source": [
    "#list of columns\n",
    "df.columns\n"
   ]
  },
  {
   "cell_type": "code",
   "execution_count": null,
   "id": "38101df1",
   "metadata": {},
   "outputs": [],
   "source": [
    "#then we remove unnamed columns because it not useful\n",
    "df.drop('Unnamed: 0', axis=1,inplace=True) #this will remove the unnamed column and axis 1 means column\n",
    "#inplace =true means it will change the original dataframe"
   ]
  },
  {
   "cell_type": "code",
   "execution_count": null,
   "id": "2cb34345",
   "metadata": {},
   "outputs": [],
   "source": [
    "df.sample(3) #this will show 3 random rows from the dataframe"
   ]
  },
  {
   "cell_type": "code",
   "execution_count": null,
   "id": "6c417b27",
   "metadata": {},
   "outputs": [],
   "source": [
    "#for check the index of dataframe is correct or not\n",
    "df.index\n",
    "#if it show in form of tuple then it is correct otherwise it is not correct"
   ]
  },
  {
   "cell_type": "code",
   "execution_count": null,
   "id": "c1717f0e",
   "metadata": {},
   "outputs": [],
   "source": [
    "#check for the null values in all columns\n",
    "df.isna().sum() #output 0 mean no null values in that column\n",
    "df.isnull().sum() #both are same"
   ]
  },
  {
   "cell_type": "code",
   "execution_count": null,
   "id": "e53cb5ed",
   "metadata": {},
   "outputs": [],
   "source": [
    "#graphical/visualization we use heatmap\n",
    "import seaborn as sns\n",
    "sns.heatmap(df.isnull())"
   ]
  },
  {
   "cell_type": "code",
   "execution_count": null,
   "id": "cc2e7fc9",
   "metadata": {},
   "outputs": [],
   "source": [
    "#if there is any null values then we need to do \n",
    "# Replace/Fill/Remove/ignore"
   ]
  },
  {
   "cell_type": "code",
   "execution_count": null,
   "id": "53da57e5",
   "metadata": {},
   "outputs": [],
   "source": [
    "#stats by default this ignore the object and catogray\n",
    "df.describe().round(2)"
   ]
  },
  {
   "cell_type": "code",
   "execution_count": null,
   "id": "3b50640e",
   "metadata": {},
   "outputs": [],
   "source": [
    "df.describe(include=['O']) # here 'O' means object type columns \n"
   ]
  },
  {
   "cell_type": "code",
   "execution_count": null,
   "id": "d3d37ab1",
   "metadata": {},
   "outputs": [],
   "source": [
    "#analysis \n",
    "# univariate analysis (Single column), bivariate analysis(Double Column ), multivariate analysis(More than two columns)"
   ]
  },
  {
   "cell_type": "code",
   "execution_count": null,
   "id": "84cbbe28",
   "metadata": {},
   "outputs": [],
   "source": [
    "#start with univariate analysis\n",
    "cat_col=list(df.describe(include=['O']).columns) #this will give the list of object type columns\n",
    "num_col=list(df.describe().columns) #this will give the list of numerical columns\n",
    "print(cat_col)\n",
    "print(num_col)"
   ]
  },
  {
   "cell_type": "code",
   "execution_count": null,
   "id": "9e7deca7",
   "metadata": {},
   "outputs": [],
   "source": [
    "#unique #nunique #value_counts\n",
    "# in pandas there are mainly two type of data type 1. dataframe 2. series(it for single column)\n",
    "df[\"car_name\"]\n",
    "df[\"car_name\"].value_counts().head(10) #this will show the top 10 car names with their count\n",
    "df[\"car_name\"].value_counts().tail(10) #this will show the last 10 car names with their count\n",
    "\n"
   ]
  },
  {
   "cell_type": "code",
   "execution_count": null,
   "id": "9e0c64e6",
   "metadata": {},
   "outputs": [],
   "source": [
    "#Top 10 values for each categorical column\n",
    "for i in cat_col:\n",
    "    print(f\"Top 10 values for {i}:\\n\")\n",
    "    display(df[i].value_counts().head(10))"
   ]
  },
  {
   "cell_type": "code",
   "execution_count": null,
   "id": "d281df3c",
   "metadata": {},
   "outputs": [],
   "source": [
    "df[\"car_name\"].value_counts().head(10)#this show values of top 10 \n",
    "top_10=df[\"car_name\"].value_counts().head(10)#this show values of top 10 \n",
    "a=top_10/top_10.sum()*100 #this will show the percentage of top 10 values\n",
    "print(a.round(2)) #this will round the percentage to 2 decimal places"
   ]
  },
  {
   "cell_type": "code",
   "execution_count": null,
   "id": "732cbef4",
   "metadata": {},
   "outputs": [],
   "source": [
    "#Top 10 values for each categorical column\n",
    "for i in cat_col:\n",
    "    print(f\"Top 10 values for {i}:\\n\")\n",
    "    top_10=df[i].value_counts().head(10)\n",
    "    ans=top_10/top_10.sum()*100 #this will show the percentage of top 10 values\n",
    "    display(ans.round(2)) #this will round the percentage to 2 decimal places"
   ]
  },
  {
   "cell_type": "code",
   "execution_count": null,
   "id": "d8c7708e",
   "metadata": {},
   "outputs": [],
   "source": [
    "#bottom 10 values for each categorical column\n",
    "for i in cat_col:\n",
    "    print(f\"Bottom 10 values for {i}:\\n\")\n",
    "    display(df[i].value_counts().tail(10)) #this will show the bottom 10 values for each categorical column\n",
    "    # top_10=df[i].value_counts().tail(10)\n",
    "    # ans=top_10/top_10.sum()*100 #this will show the percentage of bottom 10 values\n",
    "    # display(ans.round(2),'%') #this will round the percentage to 2 decimal places"
   ]
  },
  {
   "cell_type": "code",
   "execution_count": null,
   "id": "797dea7b",
   "metadata": {},
   "outputs": [],
   "source": [
    "df['car_name'].value_counts().head(10).plot(kind='pie',autopct=\"%.2f%%\") #this will make a chart with percentage using autopct .2 mean round of 2 decimal places and autopct is only used for pie chart"
   ]
  },
  {
   "cell_type": "code",
   "execution_count": null,
   "id": "cc826aea",
   "metadata": {},
   "outputs": [],
   "source": [
    "for i in cat_col:\n",
    "    print(f\"Top 10 values for {i}:\\n\")\n",
    "    df[i].value_counts().head(10).plot(kind='pie',autopct=\"%.2f%%\")"
   ]
  },
  {
   "cell_type": "code",
   "execution_count": null,
   "id": "17df20d4",
   "metadata": {},
   "outputs": [],
   "source": [
    "def top_graph(name):\n",
    "    import matplotlib.pyplot as plt\n",
    "    y=df[name].value_counts().head(10).values\n",
    "    x=df[name].value_counts().head(10).index\n",
    "    plt.figure(figsize=(8,4))  # Set the figure size for better visibility(length and width)\n",
    "    plt.title(f\"Top 10 {name}\", fontsize=16, color='red')  # Set the title of the graph\n",
    "    ax=plt.bar(x, y,color=sns.color_palette('magma',10))  # more colors= rainbow, hot, cool, winter, spring, summer, autumn, magma, viridis\n",
    "    plt.bar_label(ax)\n",
    "    plt.xticks(rotation=90)  # Rotate x-axis labels for better readability\n",
    "    plt.show()\n",
    "def Bottom_graph(name):\n",
    "    import matplotlib.pyplot as plt\n",
    "    y=df[name].value_counts().tail(10).values\n",
    "    x=df[name].value_counts().tail(10).index\n",
    "    plt.figure(figsize=(8,4))  # Set the figure size for better visibility(length and width)\n",
    "    plt.title(f\"Bottom 10 {name}\", fontsize=16, color='red')  # Set the title of the graph\n",
    "    ax=plt.bar(x, y,color=sns.color_palette('magma',10))  # more colors= rainbow, hot, cool, winter, spring, summer, autumn, magma, viridis\n",
    "    plt.bar_label(ax)\n",
    "    plt.xticks(rotation=90)  # Rotate x-axis labels for better readability\n",
    "    plt.show()"
   ]
  },
  {
   "cell_type": "code",
   "execution_count": null,
   "id": "3532c547",
   "metadata": {},
   "outputs": [],
   "source": [
    "for i in cat_col: #for top \n",
    "    print(f\"Top 10 values for {i}:\\n\")\n",
    "    top_graph(i)  # Call the graph function for each categorical column"
   ]
  },
  {
   "cell_type": "code",
   "execution_count": null,
   "id": "bd705d27",
   "metadata": {},
   "outputs": [],
   "source": [
    "for i in cat_col: #for Bottom\n",
    "    print (f\"Bottom 10 values for {i}:\\n\")\n",
    "    Bottom_graph(i)"
   ]
  },
  {
   "cell_type": "code",
   "execution_count": null,
   "id": "b0d25889",
   "metadata": {},
   "outputs": [],
   "source": [
    "df['selling_price'].plot(kind='hist')\n"
   ]
  },
  {
   "cell_type": "code",
   "execution_count": null,
   "id": "215062e2",
   "metadata": {},
   "outputs": [],
   "source": [
    "import matplotlib.pyplot as plt\n",
    "import numpy as np\n",
    "plt.hist(df['selling_price'],bins=np.linspace(df['selling_price'].min(),df['selling_price'].max(),200)) #linspace mean linear space and the number used here mean size \n",
    "plt.show()"
   ]
  },
  {
   "cell_type": "code",
   "execution_count": null,
   "id": "b86b4043",
   "metadata": {},
   "outputs": [],
   "source": [
    "def plot_hist(col_name,bin_size=100):\n",
    "    import matplotlib.pyplot as plt\n",
    "    import numpy as np\n",
    "    plt.title(f\"Distribution of {col_name} analysis\".title(), fontsize=25, color=\"Blue\")\n",
    "    plt.hist(df[col_name],bins=np.linspace(df[col_name].min(),df[col_name].max(),bin_size)) #linspace mean linear space and the number used here mean size \n",
    "    plt.show()\n",
    "\n",
    "plot_hist(\"selling_price\",200)  # Call the plot_hist function with column name and bin size"
   ]
  },
  {
   "cell_type": "code",
   "execution_count": null,
   "id": "b4ea8e59",
   "metadata": {},
   "outputs": [],
   "source": [
    "for i in num_col:\n",
    "    plot_hist(i)"
   ]
  },
  {
   "cell_type": "code",
   "execution_count": null,
   "id": "741cb879",
   "metadata": {},
   "outputs": [],
   "source": [
    "#filtering data \n",
    "#masking technique\n",
    "df.columns"
   ]
  },
  {
   "cell_type": "code",
   "execution_count": null,
   "id": "0f41cbe1",
   "metadata": {},
   "outputs": [],
   "source": [
    "df[\"mileage\"].min()"
   ]
  },
  {
   "cell_type": "code",
   "execution_count": null,
   "id": "defaee10",
   "metadata": {},
   "outputs": [],
   "source": [
    "#minimum mileage car\n",
    "df[df[\"mileage\"]==df[\"mileage\"].min()]"
   ]
  },
  {
   "cell_type": "code",
   "execution_count": null,
   "id": "206e2b8d",
   "metadata": {},
   "outputs": [],
   "source": [
    "#maximum mileage car\n",
    "df[df[\"mileage\"]==df[\"mileage\"].max()]"
   ]
  },
  {
   "cell_type": "code",
   "execution_count": null,
   "id": "c6a5c6f4",
   "metadata": {},
   "outputs": [],
   "source": [
    "#minimum seats car\n",
    "df[df[\"seats\"]==df[\"seats\"].min()]"
   ]
  },
  {
   "cell_type": "code",
   "execution_count": null,
   "id": "bdf1a20d",
   "metadata": {},
   "outputs": [],
   "source": [
    "second_Cheap=df[\"selling_price\"].sort_values().values[1]#ascending value"
   ]
  },
  {
   "cell_type": "code",
   "execution_count": null,
   "id": "9ccb5f05",
   "metadata": {},
   "outputs": [],
   "source": [
    "df[df[\"selling_price\"]==second_Cheap]"
   ]
  },
  {
   "cell_type": "code",
   "execution_count": null,
   "id": "e5d344f9",
   "metadata": {},
   "outputs": [],
   "source": [
    "second_Costly=df[\"selling_price\"].sort_values(ascending=False).values[1]#ascending value"
   ]
  },
  {
   "cell_type": "code",
   "execution_count": null,
   "id": "54a66602",
   "metadata": {},
   "outputs": [],
   "source": [
    "df[df['selling_price']==second_Costly]"
   ]
  },
  {
   "cell_type": "code",
   "execution_count": null,
   "id": "bb9ecc4b",
   "metadata": {},
   "outputs": [],
   "source": [
    "#top 10 car by selling price\n",
    "top10=df.sort_values(by='selling_price',ascending=False).head(10)"
   ]
  },
  {
   "cell_type": "code",
   "execution_count": null,
   "id": "5f57ddf4",
   "metadata": {},
   "outputs": [],
   "source": [
    "df.columns"
   ]
  },
  {
   "cell_type": "code",
   "execution_count": null,
   "id": "4d322e18",
   "metadata": {},
   "outputs": [],
   "source": [
    "top10[['car_name','selling_price']]"
   ]
  },
  {
   "cell_type": "code",
   "execution_count": null,
   "id": "b78a591a",
   "metadata": {},
   "outputs": [],
   "source": [
    "# this will make the code in one line\n",
    "top10_old=df.sort_values(by='vehicle_age',ascending=False).head(10)[['car_name','vehicle_age']]\n",
    "top10_old"
   ]
  },
  {
   "cell_type": "code",
   "execution_count": null,
   "id": "74172a81",
   "metadata": {},
   "outputs": [],
   "source": [
    "top10_old=df.sort_values(by='vehicle_age').head(10)[['car_name','vehicle_age',\"selling_price\"]]\n",
    "top10_old"
   ]
  },
  {
   "cell_type": "code",
   "execution_count": null,
   "id": "e95a018f",
   "metadata": {},
   "outputs": [],
   "source": [
    "# unique method\n",
    "df['brand'].unique() # This will show the unique values in the 'brand' column\n",
    "df['brand'].nunique() # this will shhow the count of unique values in the 'brand' column\n"
   ]
  },
  {
   "cell_type": "code",
   "execution_count": null,
   "id": "440e9cad",
   "metadata": {},
   "outputs": [],
   "source": [
    "#group by \n",
    "df.groupby('brand')['selling_price'].mean().round(2).sort_values(ascending=0)"
   ]
  },
  {
   "cell_type": "code",
   "execution_count": 98,
   "id": "3a8f08f1",
   "metadata": {},
   "outputs": [
    {
     "data": {
      "text/html": [
       "<div>\n",
       "<style scoped>\n",
       "    .dataframe tbody tr th:only-of-type {\n",
       "        vertical-align: middle;\n",
       "    }\n",
       "\n",
       "    .dataframe tbody tr th {\n",
       "        vertical-align: top;\n",
       "    }\n",
       "\n",
       "    .dataframe thead th {\n",
       "        text-align: right;\n",
       "    }\n",
       "</style>\n",
       "<table border=\"1\" class=\"dataframe\">\n",
       "  <thead>\n",
       "    <tr style=\"text-align: right;\">\n",
       "      <th></th>\n",
       "      <th>min</th>\n",
       "      <th>max</th>\n",
       "      <th>mean</th>\n",
       "    </tr>\n",
       "    <tr>\n",
       "      <th>seller_type</th>\n",
       "      <th></th>\n",
       "      <th></th>\n",
       "      <th></th>\n",
       "    </tr>\n",
       "  </thead>\n",
       "  <tbody>\n",
       "    <tr>\n",
       "      <th>Dealer</th>\n",
       "      <td>55000</td>\n",
       "      <td>39500000</td>\n",
       "      <td>872505.503722</td>\n",
       "    </tr>\n",
       "    <tr>\n",
       "      <th>Individual</th>\n",
       "      <td>40000</td>\n",
       "      <td>24200000</td>\n",
       "      <td>617880.483418</td>\n",
       "    </tr>\n",
       "    <tr>\n",
       "      <th>Trustmark Dealer</th>\n",
       "      <td>210000</td>\n",
       "      <td>1575000</td>\n",
       "      <td>571959.537572</td>\n",
       "    </tr>\n",
       "  </tbody>\n",
       "</table>\n",
       "</div>"
      ],
      "text/plain": [
       "                     min       max           mean\n",
       "seller_type                                      \n",
       "Dealer             55000  39500000  872505.503722\n",
       "Individual         40000  24200000  617880.483418\n",
       "Trustmark Dealer  210000   1575000  571959.537572"
      ]
     },
     "execution_count": 98,
     "metadata": {},
     "output_type": "execute_result"
    }
   ],
   "source": [
    "df.groupby('seller_type')['selling_price'].agg(['min','max', 'mean'])"
   ]
  },
  {
   "cell_type": "code",
   "execution_count": 99,
   "id": "5c7dbf93",
   "metadata": {},
   "outputs": [
    {
     "data": {
      "text/plain": [
       "Index(['car_name', 'brand', 'model', 'vehicle_age', 'km_driven', 'seller_type',\n",
       "       'fuel_type', 'transmission_type', 'mileage', 'engine', 'max_power',\n",
       "       'seats', 'selling_price'],\n",
       "      dtype='object')"
      ]
     },
     "execution_count": 99,
     "metadata": {},
     "output_type": "execute_result"
    }
   ],
   "source": [
    "df.columns"
   ]
  }
 ],
 "metadata": {
  "kernelspec": {
   "display_name": "Python 3",
   "language": "python",
   "name": "python3"
  },
  "language_info": {
   "codemirror_mode": {
    "name": "ipython",
    "version": 3
   },
   "file_extension": ".py",
   "mimetype": "text/x-python",
   "name": "python",
   "nbconvert_exporter": "python",
   "pygments_lexer": "ipython3",
   "version": "3.13.5"
  }
 },
 "nbformat": 4,
 "nbformat_minor": 5
}
