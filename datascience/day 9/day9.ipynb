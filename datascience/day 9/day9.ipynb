{
 "cells": [
  {
   "cell_type": "markdown",
   "id": "c90d794b",
   "metadata": {},
   "source": [
    "Numpy = Numerical Python \"Help in complex Numerical"
   ]
  },
  {
   "cell_type": "code",
   "execution_count": null,
   "id": "8403c8d5",
   "metadata": {},
   "outputs": [],
   "source": [
    "#in python array are not available but if we want to use we need nnumpy for array \n",
    "#lsit are so slow for large calaculation and its not also not for calculations so we nned to use numpy\n"
   ]
  },
  {
   "cell_type": "code",
   "execution_count": null,
   "id": "2abe140b",
   "metadata": {},
   "outputs": [],
   "source": [
    "import numpy as np\n",
    "np.__version__"
   ]
  },
  {
   "cell_type": "code",
   "execution_count": null,
   "id": "e8e66e42",
   "metadata": {},
   "outputs": [],
   "source": [
    "import matplotlib.pyplot as mb\n",
    "print (\"Done\")"
   ]
  },
  {
   "cell_type": "code",
   "execution_count": null,
   "id": "cf193cdf",
   "metadata": {},
   "outputs": [],
   "source": [
    "mb.imshow(arr)"
   ]
  },
  {
   "cell_type": "code",
   "execution_count": null,
   "id": "faa4fadc",
   "metadata": {},
   "outputs": [],
   "source": [
    "arr.shape"
   ]
  },
  {
   "cell_type": "code",
   "execution_count": null,
   "id": "d3ac26eb",
   "metadata": {},
   "outputs": [],
   "source": [
    "arr_1=np.array([1,2,3,4,6])\n",
    "arr_1.ndim\n",
    "# print(arr)"
   ]
  },
  {
   "cell_type": "code",
   "execution_count": null,
   "id": "3b18cec4",
   "metadata": {},
   "outputs": [],
   "source": [
    "arr_2=np.array([[1,2,3],[4,5,6]])\n",
    "arr_2"
   ]
  },
  {
   "cell_type": "code",
   "execution_count": null,
   "id": "2298f559",
   "metadata": {},
   "outputs": [],
   "source": [
    "arr_2.ndim\n",
    "arr_2.shape #show row column "
   ]
  },
  {
   "cell_type": "code",
   "execution_count": null,
   "id": "1a149b0c",
   "metadata": {},
   "outputs": [],
   "source": [
    "arr_3=np.array([[[132,143,143],[1,2,3]]])\n",
    "arr_3.ndim\n",
    "arr_3.shape #first show how many row and column are in array and last 2 are row and column"
   ]
  },
  {
   "cell_type": "code",
   "execution_count": null,
   "id": "443a2a42",
   "metadata": {},
   "outputs": [],
   "source": [
    "arr_3_new=np.array([[[1,2,3],[4,5,6]], \n",
    "                    [[11,12,13],[14,15,16]]])\n",
    "arr_3_new\n",
    "arr_3_new.shape"
   ]
  },
  {
   "cell_type": "code",
   "execution_count": null,
   "id": "436d1d93",
   "metadata": {},
   "outputs": [],
   "source": [
    "arr_4=np.array([[[1,2,3],[4,5,6],[1,2,3]], \n",
    "                [[11,12,13],[14,15,16],[1,2,3]], [[1,2,3],[1,2,3],[1,2,3]] ])\n",
    "arr_4\n",
    "arr_4.shape"
   ]
  },
  {
   "cell_type": "code",
   "execution_count": null,
   "id": "68862748",
   "metadata": {},
   "outputs": [],
   "source": [
    "arr_4_new=np.array([[[1,2,3],[4,5,6],[1,2,3],[4,5,6],[11,12,13]], \n",
    "                [[11,12,13],[14,15,16],[1,2,3],[4,5,6],[11,12,13]],\n",
    "                [[1,2,3],[1,2,3],[1,2,3],[4,5,6],[11,12,13]]])\n",
    "arr_4_new\n",
    "arr_4_new.shape"
   ]
  },
  {
   "cell_type": "code",
   "execution_count": null,
   "id": "6ba2da7e",
   "metadata": {},
   "outputs": [],
   "source": [
    "arr_4_new.size #this show how many element in array"
   ]
  },
  {
   "cell_type": "code",
   "execution_count": null,
   "id": "de7670da",
   "metadata": {},
   "outputs": [],
   "source": [
    "ar= np.random.randint(1,100,(5,3,3,5))"
   ]
  },
  {
   "cell_type": "code",
   "execution_count": null,
   "id": "7fcea6ec",
   "metadata": {},
   "outputs": [],
   "source": [
    "fr=np.random.randint(1,50,(3,3,3))\n",
    "fr+100 #this add 100 in all elements  "
   ]
  },
  {
   "cell_type": "code",
   "execution_count": null,
   "id": "4a98e319",
   "metadata": {},
   "outputs": [],
   "source": [
    "fr\n",
    "# fr**2"
   ]
  },
  {
   "cell_type": "code",
   "execution_count": null,
   "id": "e281d0d7",
   "metadata": {},
   "outputs": [],
   "source": [
    "arr = mb.imread(r\"C:\\Users\\divya\\OneDrive\\Desktop\\datascience1\\unnamed (1).jpg\").astype(\"int16\")\n",
    "print (\"Stored in pyhon\")\n",
    "arr.dtype"
   ]
  },
  {
   "cell_type": "code",
   "execution_count": null,
   "id": "1e2fb5d5",
   "metadata": {},
   "outputs": [],
   "source": [
    "mb.imshow(arr+255)"
   ]
  },
  {
   "cell_type": "code",
   "execution_count": null,
   "id": "eaeecb8a",
   "metadata": {},
   "outputs": [],
   "source": [
    "import time\n",
    "for i in range (1,255):\n",
    "    display(clear=True)\n",
    "    mb.imshow(arr-i)\n",
    "    mb.show()\n",
    "    time.sleep(0.5)"
   ]
  },
  {
   "cell_type": "code",
   "execution_count": null,
   "id": "6adbf2e4",
   "metadata": {},
   "outputs": [],
   "source": [
    "a=np.random.randint(1,10,(3,3))\n",
    "a"
   ]
  },
  {
   "cell_type": "code",
   "execution_count": null,
   "id": "628a6091",
   "metadata": {},
   "outputs": [],
   "source": [
    "a[::2,::2]+100"
   ]
  },
  {
   "cell_type": "code",
   "execution_count": null,
   "id": "b9bf916b",
   "metadata": {},
   "outputs": [],
   "source": [
    "a"
   ]
  },
  {
   "cell_type": "code",
   "execution_count": null,
   "id": "d18b8a7a",
   "metadata": {},
   "outputs": [],
   "source": [
    "a=np.random.randint(1,10,(3,3,3))\n",
    "a"
   ]
  },
  {
   "cell_type": "code",
   "execution_count": null,
   "id": "0aa94992",
   "metadata": {},
   "outputs": [],
   "source": [
    "a[:,::2,::2]"
   ]
  },
  {
   "cell_type": "code",
   "execution_count": null,
   "id": "ec433787",
   "metadata": {},
   "outputs": [],
   "source": [
    "a[:,::2,::2].reshape(3,4)"
   ]
  },
  {
   "cell_type": "code",
   "execution_count": null,
   "id": "ce9d4642",
   "metadata": {},
   "outputs": [],
   "source": [
    "a[2,:,:]"
   ]
  },
  {
   "cell_type": "code",
   "execution_count": null,
   "id": "27109a27",
   "metadata": {},
   "outputs": [],
   "source": [
    "import numpy as np\n",
    "len(dir(np))\n"
   ]
  },
  {
   "cell_type": "code",
   "execution_count": null,
   "id": "47637059",
   "metadata": {},
   "outputs": [],
   "source": [
    "mb.imshow(arr)\n",
    "# a1=arr[:,:,0]=0\n",
    "# a2=arr[:,:,1]=0\n",
    "# a3=arr[:,:,2]=0\n",
    "# ar_copy=a.copy()\n",
    "# ar_copy[:,:,0]=0\n",
    "# mb.imshow(ar_copy)"
   ]
  },
  {
   "cell_type": "code",
   "execution_count": null,
   "id": "33d8c0a0",
   "metadata": {},
   "outputs": [],
   "source": [
    "arr = mb.imread(r\"C:\\Users\\divya\\OneDrive\\Desktop\\datascience1\\unnamed (1).jpg\")\n",
    "# print (\"Stored in pyhon\")\n",
    "mb.imshow(arr)"
   ]
  },
  {
   "cell_type": "code",
   "execution_count": null,
   "id": "8468a560",
   "metadata": {},
   "outputs": [],
   "source": [
    "arrr=arr[10:190,125:25,:]\n",
    "mb.imshow(arrr)"
   ]
  },
  {
   "cell_type": "code",
   "execution_count": null,
   "id": "280a1c01",
   "metadata": {},
   "outputs": [],
   "source": [
    "copy=1\n",
    "final = np.concat([arr]*copy,axis=0)\n",
    "mb.imshow(final)\n",
    "mb.axis(\"off\") #axis nahi aayega \n",
    "\n",
    "mb.savefig(\"demo.jpg\",dpi=4000)"
   ]
  },
  {
   "cell_type": "code",
   "execution_count": null,
   "id": "2351ae30",
   "metadata": {},
   "outputs": [],
   "source": [
    "#linspace\n",
    "a=np.linspace(2,20,10) #(start , end , kitna spcae chaiye)\n",
    "print(a)"
   ]
  },
  {
   "cell_type": "code",
   "execution_count": null,
   "id": "49a70b42",
   "metadata": {},
   "outputs": [],
   "source": [
    "import matplotlib.pyplot as mb\n",
    "d=np.linspace(-1,1,1000)\n",
    "mb.plot(np.sin(d))\n",
    "mb.show()"
   ]
  },
  {
   "cell_type": "code",
   "execution_count": 102,
   "id": "42fda6ae",
   "metadata": {},
   "outputs": [
    {
     "ename": "MemoryError",
     "evalue": "Unable to allocate 7.45 GiB for an array with shape (500000000, 2) and data type float64",
     "output_type": "error",
     "traceback": [
      "\u001b[31m---------------------------------------------------------------------------\u001b[39m",
      "\u001b[31mMemoryError\u001b[39m                               Traceback (most recent call last)",
      "\u001b[36mCell\u001b[39m\u001b[36m \u001b[39m\u001b[32mIn[102]\u001b[39m\u001b[32m, line 4\u001b[39m\n\u001b[32m      2\u001b[39m \u001b[38;5;28;01mimport\u001b[39;00m\u001b[38;5;250m \u001b[39m\u001b[34;01mmatplotlib\u001b[39;00m\u001b[34;01m.\u001b[39;00m\u001b[34;01mpyplot\u001b[39;00m\u001b[38;5;250m \u001b[39m\u001b[38;5;28;01mas\u001b[39;00m\u001b[38;5;250m \u001b[39m\u001b[34;01mplt\u001b[39;00m\n\u001b[32m      3\u001b[39m data = np.linspace(-\u001b[32m10\u001b[39m,\u001b[32m10\u001b[39m, \u001b[32m500000000\u001b[39m)\n\u001b[32m----> \u001b[39m\u001b[32m4\u001b[39m \u001b[43mplt\u001b[49m\u001b[43m.\u001b[49m\u001b[43mplot\u001b[49m\u001b[43m(\u001b[49m\u001b[43mnp\u001b[49m\u001b[43m.\u001b[49m\u001b[43msin\u001b[49m\u001b[43m(\u001b[49m\u001b[43mdata\u001b[49m\u001b[43m)\u001b[49m\u001b[43m)\u001b[49m\n\u001b[32m      5\u001b[39m plt.show()\n",
      "\u001b[36mFile \u001b[39m\u001b[32mc:\\Users\\divya\\AppData\\Local\\Programs\\Python\\Python313\\Lib\\site-packages\\matplotlib\\pyplot.py:3838\u001b[39m, in \u001b[36mplot\u001b[39m\u001b[34m(scalex, scaley, data, *args, **kwargs)\u001b[39m\n\u001b[32m   3830\u001b[39m \u001b[38;5;129m@_copy_docstring_and_deprecators\u001b[39m(Axes.plot)\n\u001b[32m   3831\u001b[39m \u001b[38;5;28;01mdef\u001b[39;00m\u001b[38;5;250m \u001b[39m\u001b[34mplot\u001b[39m(\n\u001b[32m   3832\u001b[39m     *args: \u001b[38;5;28mfloat\u001b[39m | ArrayLike | \u001b[38;5;28mstr\u001b[39m,\n\u001b[32m   (...)\u001b[39m\u001b[32m   3836\u001b[39m     **kwargs,\n\u001b[32m   3837\u001b[39m ) -> \u001b[38;5;28mlist\u001b[39m[Line2D]:\n\u001b[32m-> \u001b[39m\u001b[32m3838\u001b[39m     \u001b[38;5;28;01mreturn\u001b[39;00m \u001b[43mgca\u001b[49m\u001b[43m(\u001b[49m\u001b[43m)\u001b[49m\u001b[43m.\u001b[49m\u001b[43mplot\u001b[49m\u001b[43m(\u001b[49m\n\u001b[32m   3839\u001b[39m \u001b[43m        \u001b[49m\u001b[43m*\u001b[49m\u001b[43margs\u001b[49m\u001b[43m,\u001b[49m\n\u001b[32m   3840\u001b[39m \u001b[43m        \u001b[49m\u001b[43mscalex\u001b[49m\u001b[43m=\u001b[49m\u001b[43mscalex\u001b[49m\u001b[43m,\u001b[49m\n\u001b[32m   3841\u001b[39m \u001b[43m        \u001b[49m\u001b[43mscaley\u001b[49m\u001b[43m=\u001b[49m\u001b[43mscaley\u001b[49m\u001b[43m,\u001b[49m\n\u001b[32m   3842\u001b[39m \u001b[43m        \u001b[49m\u001b[43m*\u001b[49m\u001b[43m*\u001b[49m\u001b[43m(\u001b[49m\u001b[43m{\u001b[49m\u001b[33;43m\"\u001b[39;49m\u001b[33;43mdata\u001b[39;49m\u001b[33;43m\"\u001b[39;49m\u001b[43m:\u001b[49m\u001b[43m \u001b[49m\u001b[43mdata\u001b[49m\u001b[43m}\u001b[49m\u001b[43m \u001b[49m\u001b[38;5;28;43;01mif\u001b[39;49;00m\u001b[43m \u001b[49m\u001b[43mdata\u001b[49m\u001b[43m \u001b[49m\u001b[38;5;129;43;01mis\u001b[39;49;00m\u001b[43m \u001b[49m\u001b[38;5;129;43;01mnot\u001b[39;49;00m\u001b[43m \u001b[49m\u001b[38;5;28;43;01mNone\u001b[39;49;00m\u001b[43m \u001b[49m\u001b[38;5;28;43;01melse\u001b[39;49;00m\u001b[43m \u001b[49m\u001b[43m{\u001b[49m\u001b[43m}\u001b[49m\u001b[43m)\u001b[49m\u001b[43m,\u001b[49m\n\u001b[32m   3843\u001b[39m \u001b[43m        \u001b[49m\u001b[43m*\u001b[49m\u001b[43m*\u001b[49m\u001b[43mkwargs\u001b[49m\u001b[43m,\u001b[49m\n\u001b[32m   3844\u001b[39m \u001b[43m    \u001b[49m\u001b[43m)\u001b[49m\n",
      "\u001b[36mFile \u001b[39m\u001b[32mc:\\Users\\divya\\AppData\\Local\\Programs\\Python\\Python313\\Lib\\site-packages\\matplotlib\\axes\\_axes.py:1779\u001b[39m, in \u001b[36mAxes.plot\u001b[39m\u001b[34m(self, scalex, scaley, data, *args, **kwargs)\u001b[39m\n\u001b[32m   1777\u001b[39m lines = [*\u001b[38;5;28mself\u001b[39m._get_lines(\u001b[38;5;28mself\u001b[39m, *args, data=data, **kwargs)]\n\u001b[32m   1778\u001b[39m \u001b[38;5;28;01mfor\u001b[39;00m line \u001b[38;5;129;01min\u001b[39;00m lines:\n\u001b[32m-> \u001b[39m\u001b[32m1779\u001b[39m     \u001b[38;5;28;43mself\u001b[39;49m\u001b[43m.\u001b[49m\u001b[43madd_line\u001b[49m\u001b[43m(\u001b[49m\u001b[43mline\u001b[49m\u001b[43m)\u001b[49m\n\u001b[32m   1780\u001b[39m \u001b[38;5;28;01mif\u001b[39;00m scalex:\n\u001b[32m   1781\u001b[39m     \u001b[38;5;28mself\u001b[39m._request_autoscale_view(\u001b[33m\"\u001b[39m\u001b[33mx\u001b[39m\u001b[33m\"\u001b[39m)\n",
      "\u001b[36mFile \u001b[39m\u001b[32mc:\\Users\\divya\\AppData\\Local\\Programs\\Python\\Python313\\Lib\\site-packages\\matplotlib\\axes\\_base.py:2407\u001b[39m, in \u001b[36m_AxesBase.add_line\u001b[39m\u001b[34m(self, line)\u001b[39m\n\u001b[32m   2404\u001b[39m \u001b[38;5;28;01mif\u001b[39;00m line.get_clip_path() \u001b[38;5;129;01mis\u001b[39;00m \u001b[38;5;28;01mNone\u001b[39;00m:\n\u001b[32m   2405\u001b[39m     line.set_clip_path(\u001b[38;5;28mself\u001b[39m.patch)\n\u001b[32m-> \u001b[39m\u001b[32m2407\u001b[39m \u001b[38;5;28;43mself\u001b[39;49m\u001b[43m.\u001b[49m\u001b[43m_update_line_limits\u001b[49m\u001b[43m(\u001b[49m\u001b[43mline\u001b[49m\u001b[43m)\u001b[49m\n\u001b[32m   2408\u001b[39m \u001b[38;5;28;01mif\u001b[39;00m \u001b[38;5;129;01mnot\u001b[39;00m line.get_label():\n\u001b[32m   2409\u001b[39m     line.set_label(\u001b[33mf\u001b[39m\u001b[33m'\u001b[39m\u001b[33m_child\u001b[39m\u001b[38;5;132;01m{\u001b[39;00m\u001b[38;5;28mlen\u001b[39m(\u001b[38;5;28mself\u001b[39m._children)\u001b[38;5;132;01m}\u001b[39;00m\u001b[33m'\u001b[39m)\n",
      "\u001b[36mFile \u001b[39m\u001b[32mc:\\Users\\divya\\AppData\\Local\\Programs\\Python\\Python313\\Lib\\site-packages\\matplotlib\\axes\\_base.py:2430\u001b[39m, in \u001b[36m_AxesBase._update_line_limits\u001b[39m\u001b[34m(self, line)\u001b[39m\n\u001b[32m   2426\u001b[39m \u001b[38;5;28;01mdef\u001b[39;00m\u001b[38;5;250m \u001b[39m\u001b[34m_update_line_limits\u001b[39m(\u001b[38;5;28mself\u001b[39m, line):\n\u001b[32m   2427\u001b[39m \u001b[38;5;250m    \u001b[39m\u001b[33;03m\"\"\"\u001b[39;00m\n\u001b[32m   2428\u001b[39m \u001b[33;03m    Figures out the data limit of the given line, updating `.Axes.dataLim`.\u001b[39;00m\n\u001b[32m   2429\u001b[39m \u001b[33;03m    \"\"\"\u001b[39;00m\n\u001b[32m-> \u001b[39m\u001b[32m2430\u001b[39m     path = \u001b[43mline\u001b[49m\u001b[43m.\u001b[49m\u001b[43mget_path\u001b[49m\u001b[43m(\u001b[49m\u001b[43m)\u001b[49m\n\u001b[32m   2431\u001b[39m     \u001b[38;5;28;01mif\u001b[39;00m path.vertices.size == \u001b[32m0\u001b[39m:\n\u001b[32m   2432\u001b[39m         \u001b[38;5;28;01mreturn\u001b[39;00m\n",
      "\u001b[36mFile \u001b[39m\u001b[32mc:\\Users\\divya\\AppData\\Local\\Programs\\Python\\Python313\\Lib\\site-packages\\matplotlib\\lines.py:1052\u001b[39m, in \u001b[36mLine2D.get_path\u001b[39m\u001b[34m(self)\u001b[39m\n\u001b[32m   1050\u001b[39m \u001b[38;5;250m\u001b[39m\u001b[33;03m\"\"\"Return the `~matplotlib.path.Path` associated with this line.\"\"\"\u001b[39;00m\n\u001b[32m   1051\u001b[39m \u001b[38;5;28;01mif\u001b[39;00m \u001b[38;5;28mself\u001b[39m._invalidy \u001b[38;5;129;01mor\u001b[39;00m \u001b[38;5;28mself\u001b[39m._invalidx:\n\u001b[32m-> \u001b[39m\u001b[32m1052\u001b[39m     \u001b[38;5;28;43mself\u001b[39;49m\u001b[43m.\u001b[49m\u001b[43mrecache\u001b[49m\u001b[43m(\u001b[49m\u001b[43m)\u001b[49m\n\u001b[32m   1053\u001b[39m \u001b[38;5;28;01mreturn\u001b[39;00m \u001b[38;5;28mself\u001b[39m._path\n",
      "\u001b[36mFile \u001b[39m\u001b[32mc:\\Users\\divya\\AppData\\Local\\Programs\\Python\\Python313\\Lib\\site-packages\\matplotlib\\lines.py:698\u001b[39m, in \u001b[36mLine2D.recache\u001b[39m\u001b[34m(self, always)\u001b[39m\n\u001b[32m    695\u001b[39m \u001b[38;5;28;01melse\u001b[39;00m:\n\u001b[32m    696\u001b[39m     y = \u001b[38;5;28mself\u001b[39m._y\n\u001b[32m--> \u001b[39m\u001b[32m698\u001b[39m \u001b[38;5;28mself\u001b[39m._xy = \u001b[43mnp\u001b[49m\u001b[43m.\u001b[49m\u001b[43mcolumn_stack\u001b[49m\u001b[43m(\u001b[49m\u001b[43mnp\u001b[49m\u001b[43m.\u001b[49m\u001b[43mbroadcast_arrays\u001b[49m\u001b[43m(\u001b[49m\u001b[43mx\u001b[49m\u001b[43m,\u001b[49m\u001b[43m \u001b[49m\u001b[43my\u001b[49m\u001b[43m)\u001b[49m\u001b[43m)\u001b[49m.astype(\u001b[38;5;28mfloat\u001b[39m)\n\u001b[32m    699\u001b[39m \u001b[38;5;28mself\u001b[39m._x, \u001b[38;5;28mself\u001b[39m._y = \u001b[38;5;28mself\u001b[39m._xy.T  \u001b[38;5;66;03m# views\u001b[39;00m\n\u001b[32m    701\u001b[39m \u001b[38;5;28mself\u001b[39m._subslice = \u001b[38;5;28;01mFalse\u001b[39;00m\n",
      "\u001b[36mFile \u001b[39m\u001b[32mc:\\Users\\divya\\AppData\\Local\\Programs\\Python\\Python313\\Lib\\site-packages\\numpy\\lib\\_shape_base_impl.py:669\u001b[39m, in \u001b[36mcolumn_stack\u001b[39m\u001b[34m(tup)\u001b[39m\n\u001b[32m    667\u001b[39m         arr = array(arr, copy=\u001b[38;5;28;01mNone\u001b[39;00m, subok=\u001b[38;5;28;01mTrue\u001b[39;00m, ndmin=\u001b[32m2\u001b[39m).T\n\u001b[32m    668\u001b[39m     arrays.append(arr)\n\u001b[32m--> \u001b[39m\u001b[32m669\u001b[39m \u001b[38;5;28;01mreturn\u001b[39;00m \u001b[43m_nx\u001b[49m\u001b[43m.\u001b[49m\u001b[43mconcatenate\u001b[49m\u001b[43m(\u001b[49m\u001b[43marrays\u001b[49m\u001b[43m,\u001b[49m\u001b[43m \u001b[49m\u001b[32;43m1\u001b[39;49m\u001b[43m)\u001b[49m\n",
      "\u001b[31mMemoryError\u001b[39m: Unable to allocate 7.45 GiB for an array with shape (500000000, 2) and data type float64"
     ]
    },
    {
     "data": {
      "image/png": "[encoded data removed]",
      "text/plain": [
       "<Figure size 640x480 with 1 Axes>"
      ]
     },
     "metadata": {},
     "output_type": "display_data"
    }
   ],
   "source": [
    "import numpy as np\n",
    "import matplotlib.pyplot as plt\n",
    "data = np.linspace(-10,10, 500000000)\n",
    "plt.plot(np.sin(data))\n",
    "plt.show()"
   ]
  },
  {
   "cell_type": "code",
   "execution_count": 2,
   "id": "5de27270",
   "metadata": {},
   "outputs": [
    {
     "data": {
      "text/plain": [
       "<matplotlib.image.AxesImage at 0x222737923c0>"
      ]
     },
     "execution_count": 2,
     "metadata": {},
     "output_type": "execute_result"
    },
    {
     "data": {
      "image/png": "[encoded data removed]",
      "text/plain": [
       "<Figure size 640x480 with 1 Axes>"
      ]
     },
     "metadata": {},
     "output_type": "display_data"
    }
   ],
   "source": [
    "import matplotlib.pyplot as plt\n",
    "import numpy as np\n",
    "plt.imshow(np.arange(0,256).reshape(16,16))\n"
   ]
  },
  {
   "cell_type": "code",
   "execution_count": 10,
   "id": "a97dc8c3",
   "metadata": {},
   "outputs": [
    {
     "name": "stdout",
     "output_type": "stream",
     "text": [
      "[[754 310]\n",
      " [887 773]\n",
      " [870 899]\n",
      " [876 160]\n",
      " [338 958]\n",
      " [832 486]\n",
      " [232 191]\n",
      " [426 104]\n",
      " [621 147]\n",
      " [825 476]\n",
      " [960 398]\n",
      " [126 761]]\n"
     ]
    },
    {
     "data": {
      "text/plain": [
       "array([  754,  1064,  1951,  2724,  3594,  4493,  5369,  5529,  5867,\n",
       "        6825,  7657,  8143,  8375,  8566,  8992,  9096,  9717,  9864,\n",
       "       10689, 11165, 12125, 12523, 12649, 13410])"
      ]
     },
     "execution_count": 10,
     "metadata": {},
     "output_type": "execute_result"
    }
   ],
   "source": [
    "a=np.random.randint(100,1000,(12,2))\n",
    "print(a)\n",
    "a.max()\n",
    "a.cumsum()\n"
   ]
  },
  {
   "cell_type": "code",
   "execution_count": 20,
   "id": "8d1a333f",
   "metadata": {},
   "outputs": [
    {
     "name": "stdout",
     "output_type": "stream",
     "text": [
      "[[578 421 254  79 174]\n",
      " [456 936 355 325 536]\n",
      " [359 905 929  69 448]\n",
      " [696 111 203 375 754]\n",
      " [357 144 147 498  84]]\n"
     ]
    },
    {
     "data": {
      "text/plain": [
       "np.int64(13)"
      ]
     },
     "execution_count": 20,
     "metadata": {},
     "output_type": "execute_result"
    }
   ],
   "source": [
    "s=np.random.randint(1,1000,(5,5))\n",
    "print(s)\n",
    "\n",
    "# s.min()\n",
    "s.argmin()"
   ]
  },
  {
   "cell_type": "code",
   "execution_count": 23,
   "id": "8156a243",
   "metadata": {},
   "outputs": [
    {
     "name": "stdout",
     "output_type": "stream",
     "text": [
      "[[294 827 585 183 220]\n",
      " [947 774 448 982 802]\n",
      " [353 647  59  72 109]\n",
      " [343 979 421 555 651]\n",
      " [862 542 881 604 685]]\n"
     ]
    },
    {
     "data": {
      "text/plain": [
       "array([3, 2, 2, 0, 1])"
      ]
     },
     "execution_count": 23,
     "metadata": {},
     "output_type": "execute_result"
    }
   ],
   "source": [
    "s=np.random.randint(1,1000,(5,5))\n",
    "print(s)\n",
    "\n",
    "# s.min()\n",
    "s.argmin()\n",
    "s.argmin(axis=1)"
   ]
  },
  {
   "cell_type": "code",
   "execution_count": 25,
   "id": "8128f7ca",
   "metadata": {},
   "outputs": [
    {
     "data": {
      "text/plain": [
       "[array([[12, 54, 42, 94],\n",
       "        [52, 80, 79, 67]], dtype=int32),\n",
       " array([[71, 30, 19, 17],\n",
       "        [42, 70, 31, 27]], dtype=int32)]"
      ]
     },
     "execution_count": 25,
     "metadata": {},
     "output_type": "execute_result"
    }
   ],
   "source": [
    "s=np.random.randint(1,100,(4,4))\n",
    "np.split(s,2, axis=0)"
   ]
  }
 ],
 "metadata": {
  "kernelspec": {
   "display_name": "Python 3",
   "language": "python",
   "name": "python3"
  },
  "language_info": {
   "codemirror_mode": {
    "name": "ipython",
    "version": 3
   },
   "file_extension": ".py",
   "mimetype": "text/x-python",
   "name": "python",
   "nbconvert_exporter": "python",
   "pygments_lexer": "ipython3",
   "version": "3.13.5"
  }
 },
 "nbformat": 4,
 "nbformat_minor": 5
}
